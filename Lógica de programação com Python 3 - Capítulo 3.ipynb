{
 "cells": [
  {
   "cell_type": "markdown",
   "metadata": {},
   "source": [
    "### Exercício 3.1\n",
    "\n",
    "| Número  | Tipo númerico  | \n",
    "|---|---|\n",
    "|   5|   - [x] - [] | \n",
    "|  5.0 |   | \n",
    "| 4.3  |   q|\n",
    "| -2  |   q|\n",
    "| 100  |   q|\n",
    "| 1.333  |   q|\n",
    "\n"
   ]
  },
  {
   "cell_type": "markdown",
   "metadata": {},
   "source": [
    "## Exercício 3.7\n",
    "\n",
    "Faça um programa de que peça dois números inteiros. Imprima a soma desses dois números na tela\n"
   ]
  },
  {
   "cell_type": "code",
   "execution_count": 1,
   "metadata": {},
   "outputs": [
    {
     "name": "stdout",
     "output_type": "stream",
     "text": [
      "Insira o primeiro número: 65\n",
      "Insira o segundo número: 78\n",
      "A soma dos números é: 143\n"
     ]
    }
   ],
   "source": [
    "a = int(input(\"Insira o primeiro número: \" ))\n",
    "b = int(input(\"Insira o segundo número: \" ))\n",
    "\n",
    "soma = a + b\n",
    "\n",
    "print(\"A soma dos números é: {}\".format(soma))"
   ]
  },
  {
   "cell_type": "markdown",
   "metadata": {},
   "source": [
    "### Exercício 3.8 \n",
    "\n",
    "Escreva um programa que leia um valor em metros e o exiba convertido em milímetros."
   ]
  },
  {
   "cell_type": "code",
   "execution_count": 2,
   "metadata": {},
   "outputs": [
    {
     "name": "stdout",
     "output_type": "stream",
     "text": [
      "Entre com a medida metros: 1\n",
      "1m são equivalentes a 1000mm\n"
     ]
    }
   ],
   "source": [
    "a = int(input(\"Entre com a medida metros: \"))\n",
    "conversor = a * 1000\n",
    "\n",
    "print(\"{}m são equivalentes a {}mm\".format(a, conversor))\n"
   ]
  },
  {
   "cell_type": "markdown",
   "metadata": {},
   "source": [
    "### Exercício 3.9\n",
    "\n",
    "Escreva um programa que leia a quantidade de dias, horas, minutos e segundos do usuário. Calcule o total em segundos."
   ]
  },
  {
   "cell_type": "code",
   "execution_count": 3,
   "metadata": {},
   "outputs": [
    {
     "name": "stdout",
     "output_type": "stream",
     "text": [
      "Digite a quantidade de dias: 15\n",
      "Digite a quantidade de horas: 15\n",
      "Digite a quantidade de minutos: 36\n",
      "Digite a quantidade de segundos: 15\n",
      "O total de segundos totalizados é de:  1352175\n"
     ]
    }
   ],
   "source": [
    "dias = int(input(\"Digite a quantidade de dias: \"))\n",
    "horas = int(input(\"Digite a quantidade de horas: \"))\n",
    "minutos = int(input(\"Digite a quantidade de minutos: \"))\n",
    "segundos = int(input(\"Digite a quantidade de segundos: \"))\n",
    "\n",
    "dias = (dias * 24)  * 60 * 60\n",
    "horas = horas * 60 * 60\n",
    "minutos = minutos * 60\n",
    "total = dias + horas + minutos + segundos\n",
    "\n",
    "print(\"O total de segundos totalizados é de: \", total)"
   ]
  },
  {
   "cell_type": "markdown",
   "metadata": {},
   "source": [
    "### Exercício 3.10\n",
    "\n",
    "Faça um programa que calcule o aumento de um salário. Ele deve solicitar o valor do salário e a porcentagem do aumento. Exiba o valor do aumento e do novo salário."
   ]
  },
  {
   "cell_type": "code",
   "execution_count": 4,
   "metadata": {},
   "outputs": [
    {
     "name": "stdout",
     "output_type": "stream",
     "text": [
      "Digite o seu salário: 1500\n",
      "Digite a porcentagem do aumento: 10\n",
      "Seu salário atual é de: 1650.00\n"
     ]
    }
   ],
   "source": [
    "salario = float(input(\"Digite o seu salário: \"))\n",
    "aumento = float(input(\"Digite a porcentagem do aumento: \"))\n",
    "\n",
    "salario += salario * aumento / 100\n",
    "\n",
    "print(\"Seu salário atual é de: {:.2f}\".format(salario))"
   ]
  },
  {
   "cell_type": "markdown",
   "metadata": {},
   "source": [
    "### Exercício 3.11\n",
    "\n",
    "Faça um programa que solicite o preço de uma mercadoria e o percentual do desconto. Exib o valor do desconto e o preço a pagar."
   ]
  },
  {
   "cell_type": "code",
   "execution_count": 5,
   "metadata": {},
   "outputs": [
    {
     "name": "stdout",
     "output_type": "stream",
     "text": [
      "Digite o preço da mercadoria: 1000\n",
      "Digite o valor do desconto: 10\n",
      "O desconto no produto é de R$ 100.00\n",
      "Total a pagar: R$900.00\n"
     ]
    }
   ],
   "source": [
    "preco = float(input(\"Digite o preço da mercadoria: \"))\n",
    "desconto = float(input(\"Digite o valor do desconto: \"))\n",
    "\n",
    "valorDesconto = desconto * preco / 100\n",
    "\n",
    "print(\"O desconto no produto é de R$ {:.2f}\\nTotal a pagar: R${:.2f}\".format(valorDesconto, preco - valorDesconto))"
   ]
  },
  {
   "cell_type": "markdown",
   "metadata": {},
   "source": [
    "### Exercício 3.12\n",
    "\n",
    "Escreva um programa que calcule o tempo de viagem de carro. Pergunte a distância a percorrer e a velocidade média esperada para viagem."
   ]
  },
  {
   "cell_type": "code",
   "execution_count": 6,
   "metadata": {},
   "outputs": [
    {
     "name": "stdout",
     "output_type": "stream",
     "text": [
      "Digite a distância que será percorrida de carro: 90\n",
      "Digite a velocidade média: 90\n",
      "O tempo de viagem é de 1.00h\n"
     ]
    }
   ],
   "source": [
    "distancia = float(input(\"Digite a distância que será percorrida de carro: \"))\n",
    "velocidade = int(input(\"Digite a velocidade média: \"))\n",
    "\n",
    "print(\"O tempo de viagem é de {:.2f}h\".format(distancia / velocidade))"
   ]
  },
  {
   "cell_type": "markdown",
   "metadata": {},
   "source": [
    "### Exercício 3.13\n",
    "\n",
    "Escreva um programa que leia uma temperatura em Celcius e converta para Fahrenheit.\n",
    "\n",
    "A fórmula para conversão é: \n",
    "\n",
    "$F = \\dfrac{9 x C}{5} + 32$"
   ]
  },
  {
   "cell_type": "code",
   "execution_count": 7,
   "metadata": {},
   "outputs": [
    {
     "name": "stdout",
     "output_type": "stream",
     "text": [
      "Digite a temperatura altual em Celcius: 15\n",
      "15º convertido para Fahrenheit é 59º\n"
     ]
    }
   ],
   "source": [
    "temp = int(input(\"Digite a temperatura altual em Celcius: \"))\n",
    "fahrenheit = 9 * temp / 5 + 32\n",
    "\n",
    "print(\"{}º convertido para Fahrenheit é {:.0f}º\".format(temp, fahrenheit))"
   ]
  },
  {
   "cell_type": "markdown",
   "metadata": {},
   "source": [
    "### Exercício 3.14\n",
    "\n",
    "Escreva um programa que pergunte a quantidade de km percorridos por um carro  alugado pelo usuário, assim como a quantidade de dias que o carro foi alugado. Calcule o preco a pagar, sabendo que o carrou custa R$ 60 por dia e 0,15 por km rodado."
   ]
  },
  {
   "cell_type": "code",
   "execution_count": 8,
   "metadata": {},
   "outputs": [
    {
     "name": "stdout",
     "output_type": "stream",
     "text": [
      "Quantos quilômetros você percorreu: 200\n",
      "Por quantos dias você alugou o carro: 2\n",
      "150.0\n"
     ]
    }
   ],
   "source": [
    "km_percorridos = int(input(\"Quantos quilômetros você percorreu: \"))\n",
    "quantidade_dias = int(input(\"Por quantos dias você alugou o carro: \"))\n",
    "\n",
    "total = quantidade_dias * 60 + km_percorridos * 0.15\n",
    "\n",
    "print(total)\n"
   ]
  },
  {
   "cell_type": "markdown",
   "metadata": {},
   "source": [
    "### Exercício 3.15\n",
    "\n",
    "Escreva um programa para calcular a redução do tempo de vida de um fumante. Pergunte a quantidade de cigarros fumados por dia e quantos anos ele ja fumou. Considere que um fumante perde 10m de vida a cada cigarro. Calcue quantos dias de vida um fumante perderá."
   ]
  },
  {
   "cell_type": "code",
   "execution_count": 9,
   "metadata": {},
   "outputs": [
    {
     "name": "stdout",
     "output_type": "stream",
     "text": [
      "Quantos cigarros você fuma por por dia: 20\n",
      "Há quantos anos você fuma: 2\n",
      "Você já perdeu 101 dias de vida\n"
     ]
    }
   ],
   "source": [
    "quantidade_cigarros = int(input(\"Quantos cigarros você fuma por por dia: \"))\n",
    "anos_fumados = int(input(\"Há quantos anos você fuma: \"))\n",
    "\n",
    "# 1440 minutos equivalem a um dia\n",
    "resultado = anos_fumados * 365 * quantidade_cigarros * 10 / 1440\n",
    "\n",
    "print(\"Você já perdeu {:.0f} dias de vida\".format(resultado))"
   ]
  }
 ],
 "metadata": {
  "kernelspec": {
   "display_name": "Python 3",
   "language": "python",
   "name": "python3"
  },
  "language_info": {
   "codemirror_mode": {
    "name": "ipython",
    "version": 3
   },
   "file_extension": ".py",
   "mimetype": "text/x-python",
   "name": "python",
   "nbconvert_exporter": "python",
   "pygments_lexer": "ipython3",
   "version": "3.7.0"
  }
 },
 "nbformat": 4,
 "nbformat_minor": 2
}
