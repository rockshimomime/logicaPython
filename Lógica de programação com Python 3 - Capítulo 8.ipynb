{
 "cells": [
  {
   "cell_type": "markdown",
   "metadata": {},
   "source": [
    "# Capítulo 8\n",
    "\n",
    "## Funções"
   ]
  },
  {
   "cell_type": "markdown",
   "metadata": {},
   "source": [
    "### Exercício 8.1\n",
    "\n",
    "Escreva uma função que retorne o maior de dois números.\n",
    "\n",
    "Valores esperados: \n",
    "    - maximo(5, 6) == 6\n",
    "    - maximo(2,1) == 1\n",
    "    - maximo(7, 7) == 7"
   ]
  },
  {
   "cell_type": "code",
   "execution_count": 1,
   "metadata": {},
   "outputs": [
    {
     "name": "stdout",
     "output_type": "stream",
     "text": [
      "6\n"
     ]
    }
   ],
   "source": [
    "def maximo(a, b):\n",
    "    if a > b:\n",
    "        return a\n",
    "    return b\n",
    "\n",
    "print(maximo(5, 6))"
   ]
  },
  {
   "cell_type": "markdown",
   "metadata": {},
   "source": [
    "### Exercício 8.2\n",
    "\n",
    "Escreva uma função que receba dois números e retorne True se o primeiro número for múltiplo do segundo.\n",
    "\n",
    "Valores esperados: \n",
    "    - multiplo(8, 4) == True\n",
    "    - multiplo(2, 1) == False\n",
    "    - multiplo(5,5) == True"
   ]
  },
  {
   "cell_type": "code",
   "execution_count": 5,
   "metadata": {},
   "outputs": [
    {
     "name": "stdout",
     "output_type": "stream",
     "text": [
      "False\n"
     ]
    }
   ],
   "source": [
    "def multiplo(a, b):\n",
    "    if a % b == 0:\n",
    "        return True\n",
    "    return False\n",
    "\n",
    "print(multiplo(7,3))"
   ]
  },
  {
   "cell_type": "markdown",
   "metadata": {},
   "source": [
    "### Exercício 8.3\n",
    "\n",
    "Escreva uma função que receba o lado (l) de um quadrado e retorne a sua área (A = lado ²).\n",
    "\n",
    "valores esperados: \n",
    "    - area_quadrado(4) == 16\n",
    "    - area_quadrado(9 == 81"
   ]
  },
  {
   "cell_type": "code",
   "execution_count": 6,
   "metadata": {},
   "outputs": [
    {
     "name": "stdout",
     "output_type": "stream",
     "text": [
      "81\n"
     ]
    }
   ],
   "source": [
    "def area_quadrado(x):\n",
    "    return x ** 2\n",
    "\n",
    "print(area_quadrado(9))"
   ]
  },
  {
   "cell_type": "markdown",
   "metadata": {},
   "source": [
    "### Exercício 8.4\n",
    "\n",
    "Escreva uma função que receba a base e a altura de um triângulo e retorne a sua área (A = (base x altura) / 2).\n",
    "\n",
    "Valores esperados: \n",
    "    - area_triangulo(6, 9) == 27\n",
    "    - area_triangulo(5, 8) == 20"
   ]
  },
  {
   "cell_type": "code",
   "execution_count": 7,
   "metadata": {},
   "outputs": [
    {
     "name": "stdout",
     "output_type": "stream",
     "text": [
      "27.0\n"
     ]
    }
   ],
   "source": [
    "def area_triangulo(base, altura):\n",
    "    return base * altura / 2\n",
    "\n",
    "print(area_triangulo(6, 9))"
   ]
  },
  {
   "cell_type": "markdown",
   "metadata": {},
   "source": [
    "### Exercício 8.5\n",
    "\n",
    "Reescreva a função da listagem 8.5 de forma a utilizar os métodos de pesquisa em lista, visto no capítulo 7.\n",
    "\n",
    "- listagem 8.5\n",
    "\n",
    "```python\n",
    "def pesquise(lista, valor):\n",
    "    for x, e in enumerate(lista):\n",
    "        if e == valor:\n",
    "            return x\n",
    "    return None\n",
    "\n",
    "\n",
    "L = [10, 20, 25, 30]\n",
    "print(pesquise(L, 25))\n",
    "print(pesquise(L, 27))\n",
    "\n",
    "```"
   ]
  },
  {
   "cell_type": "code",
   "execution_count": 12,
   "metadata": {},
   "outputs": [
    {
     "name": "stdout",
     "output_type": "stream",
     "text": [
      "None\n",
      "2\n"
     ]
    }
   ],
   "source": [
    "def pesquise(valor):\n",
    "    if valor in lista:\n",
    "        return lista.index(valor)\n",
    "    return None\n",
    "\n",
    "lista = [10, 20, 25, 30]\n",
    "\n",
    "print(pesquise(9))\n",
    "print(pesquise(25))"
   ]
  },
  {
   "cell_type": "markdown",
   "metadata": {},
   "source": [
    "### Exercício 8.6\n",
    "\n",
    "Reescreva o programa da listagem 8.8 de forma a utilizar **for** em vez de **while**.\n",
    "\n",
    "- Listagem 8.8\n",
    "\n",
    "```python\n",
    "def soma(L):\n",
    "    total = 0\n",
    "    x = 0\n",
    "\n",
    "    while x < 5:\n",
    "        total += L[x]\n",
    "        x += 1\n",
    "    return total\n",
    "\n",
    "\n",
    "L = [1, 7, 2, 9, 15]\n",
    "\n",
    "print(soma(L))\n",
    "print(soma([7, 9, 12, 3, 100, 20, 4]))\n",
    "```"
   ]
  },
  {
   "cell_type": "code",
   "execution_count": 14,
   "metadata": {},
   "outputs": [
    {
     "name": "stdout",
     "output_type": "stream",
     "text": [
      "34\n",
      "155\n"
     ]
    }
   ],
   "source": [
    "def soma(L):\n",
    "    total = 0\n",
    "\n",
    "    for x, i in enumerate(L):\n",
    "        total += L[x]\n",
    "    return total\n",
    "\n",
    "\n",
    "L = [1, 7, 2, 9, 15]\n",
    "\n",
    "print(soma(L))\n",
    "print(soma([7, 9, 12, 3, 100, 20, 4]))"
   ]
  },
  {
   "cell_type": "code",
   "execution_count": null,
   "metadata": {},
   "outputs": [],
   "source": []
  }
 ],
 "metadata": {
  "kernelspec": {
   "display_name": "Python 3",
   "language": "python",
   "name": "python3"
  },
  "language_info": {
   "codemirror_mode": {
    "name": "ipython",
    "version": 3
   },
   "file_extension": ".py",
   "mimetype": "text/x-python",
   "name": "python",
   "nbconvert_exporter": "python",
   "pygments_lexer": "ipython3",
   "version": "3.7.2"
  }
 },
 "nbformat": 4,
 "nbformat_minor": 2
}
