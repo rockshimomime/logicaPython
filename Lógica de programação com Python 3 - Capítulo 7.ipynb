{
 "cells": [
  {
   "cell_type": "markdown",
   "metadata": {},
   "source": [
    "# Capítulo 7\n",
    "\n",
    "## Trabalhando com strings"
   ]
  },
  {
   "cell_type": "markdown",
   "metadata": {},
   "source": [
    "### Exercício 7.1\n",
    "\n",
    "Escreva um programa que leia duas strings. Verifique se a segunda ocorre dentro da primeira e imprima a posição de início.\n",
    "\n",
    "1º String: AABBEFAATT\n",
    "\n",
    "2º String: BE\n",
    "\n",
    "**Resultado:** BE encontrado na posição 3 de AABBEFAATT."
   ]
  },
  {
   "cell_type": "code",
   "execution_count": 1,
   "metadata": {},
   "outputs": [
    {
     "name": "stdout",
     "output_type": "stream",
     "text": [
      "BE encontrado na posição 3 de AABBEFAATT: \n"
     ]
    }
   ],
   "source": [
    "string1 = \"AABBEFAATT\"\n",
    "string2 = \"BE\"\n",
    "p = 0\n",
    "\n",
    "while p >= 0:\n",
    "    p = string1.find(string2)\n",
    "    if p >= 0:\n",
    "        print(\"{} encontrado na posição {} de {}: \".format(string2, p, string1))\n",
    "        break\n"
   ]
  },
  {
   "cell_type": "markdown",
   "metadata": {},
   "source": [
    "### Exercício 7.2\n",
    "\n",
    "Escreva um programa que leia duas strings e gere uma terceira com os caracteres comuns às duas strings da lista.\n",
    "\n",
    "1º String: AAACTBF\n",
    "\n",
    "2º String: CBT\n",
    "\n",
    "**Resultado:** CBT\n",
    "\n",
    "A ordem dos caracteres da string gerada não é importante, mas deve conter todas as letras comuns a ambas."
   ]
  },
  {
   "cell_type": "code",
   "execution_count": 4,
   "metadata": {},
   "outputs": [
    {
     "name": "stdout",
     "output_type": "stream",
     "text": [
      "CTB\n"
     ]
    }
   ],
   "source": [
    "a = \"AAACTBF\"\n",
    "b = \"CBT\"\n",
    "s = ''\n",
    "\n",
    "for i in a:\n",
    "    if i in b:\n",
    "        s += ''.join(i)\n",
    "\n",
    "print(s)"
   ]
  },
  {
   "cell_type": "markdown",
   "metadata": {},
   "source": [
    "### Exercício 7.3\n",
    "\n",
    "Escreva um programa que leia duas strings e gere uma terceira apenas com os caracteres que aparecem em uma delas.\n",
    "\n",
    "1º String: CTA\n",
    "\n",
    "2º String: ABC\n",
    "\n",
    "**Resultado:** BT\n",
    "\n",
    "A ordem dos caracteres da terceira string não é importante."
   ]
  },
  {
   "cell_type": "code",
   "execution_count": 6,
   "metadata": {},
   "outputs": [
    {
     "name": "stdout",
     "output_type": "stream",
     "text": [
      "TB\n"
     ]
    }
   ],
   "source": [
    "a = \"CTA\"\n",
    "b = \"ABC\"\n",
    "s = ''\n",
    "\n",
    "for i in a:\n",
    "    if i not in b:\n",
    "        s += ''.join(i)\n",
    "for j in b:\n",
    "    if j not in a:\n",
    "        s += ''.join(j)\n",
    "print(s)"
   ]
  },
  {
   "cell_type": "markdown",
   "metadata": {},
   "source": [
    "### Exercício 7.4\n",
    "\n",
    "Escreva um programa que leia uma string e imprima quantas vezes cada caractere aparece nessa string.\n",
    "\n",
    "String: TTAAC\n",
    "\n",
    "**Resulado:**\n",
    "\n",
    "- T: 2x\n",
    "- A: 2x\n",
    "- C: 1x"
   ]
  },
  {
   "cell_type": "code",
   "execution_count": 5,
   "metadata": {},
   "outputs": [
    {
     "name": "stdout",
     "output_type": "stream",
     "text": [
      "T: 2x\n",
      "A: 2x\n",
      "C: 1x\n"
     ]
    }
   ],
   "source": [
    "s = \"TTAAC\"\n",
    "letra = 0\n",
    "remover_repetições = ''\n",
    "\n",
    "for i in s:\n",
    "    if i not in remover_repetições:\n",
    "        remover_repetições += ''.join(i)\n",
    "\n",
    "for i, e in enumerate(remover_repetições):\n",
    "    print(\"{}: {}x\".format(remover_repetições[i], s.count(e)))"
   ]
  },
  {
   "cell_type": "markdown",
   "metadata": {},
   "source": [
    "### Exercício 7.5\n",
    "\n",
    "Escreva um programa que leia duas strings e gere uma terceira, na qual os caracteres da segunda foram retirados da primeira.\n",
    "\n",
    "1º String: AATTGGAA\n",
    "\n",
    "2º String: TG\n",
    "\n",
    "**Resultado:** AAAA"
   ]
  },
  {
   "cell_type": "code",
   "execution_count": 1,
   "metadata": {},
   "outputs": [
    {
     "name": "stdout",
     "output_type": "stream",
     "text": [
      "AAAA\n"
     ]
    }
   ],
   "source": [
    "primeira_string = \"AATTGGAA\"\n",
    "segunda_string = \"TG\"\n",
    "terceira_string = ''\n",
    "\n",
    "for i in primeira_string:\n",
    "    if i in segunda_string:\n",
    "        continue\n",
    "    else:\n",
    "        terceira_string += ''.join(i)\n",
    "print(terceira_string)"
   ]
  },
  {
   "cell_type": "markdown",
   "metadata": {},
   "source": [
    "### Exercício 7.6\n",
    "\n",
    "Escreva um programa que leia três strings. Imprima o resultado da substituição na primeira, dos caracteres da segunda pelos da terceira.\n",
    "\n",
    "1º string: AATTCGAA\n",
    "\n",
    "2º string: TG\n",
    "\n",
    "3º string: AC\n",
    "\n",
    "**Resultado:** AAAACCAA"
   ]
  },
  {
   "cell_type": "code",
   "execution_count": 1,
   "metadata": {},
   "outputs": [
    {
     "name": "stdout",
     "output_type": "stream",
     "text": [
      "Digite a primeira string: ASDA\n",
      "Digite a segunda string: AS\n",
      "Digite a terceira string: ADSAA\n",
      "ERRO: A segunda e a terceira string devem ter o mesmo tamanho.\n"
     ]
    }
   ],
   "source": [
    "primeira = input(\"Digite a primeira string: \")\n",
    "segunda = input(\"Digite a segunda string: \")\n",
    "terceira = input(\"Digite a terceira string: \")\n",
    "\n",
    "if len(segunda) == len(terceira):\n",
    "    resultado = \"\"\n",
    "    for letra in primeira:\n",
    "        posição = segunda.find(letra)\n",
    "        if posição != -1:\n",
    "            resultado += terceira[posição]\n",
    "        else:\n",
    "            resultado += letra\n",
    "\n",
    "\n",
    "    if resultado == \"\":\n",
    "        print(\"Todos os caracteres foram removidos.\")\n",
    "    else:\n",
    "        print(\"Os caracteres %s foram substituidos por %s em %s, gerando: %s\" % (segunda, terceira, primeira, resultado))\n",
    "else:\n",
    "    print(\"ERRO: A segunda e a terceira string devem ter o mesmo tamanho.\")"
   ]
  },
  {
   "cell_type": "code",
   "execution_count": null,
   "metadata": {},
   "outputs": [],
   "source": []
  }
 ],
 "metadata": {
  "kernelspec": {
   "display_name": "Python 3",
   "language": "python",
   "name": "python3"
  },
  "language_info": {
   "codemirror_mode": {
    "name": "ipython",
    "version": 3
   },
   "file_extension": ".py",
   "mimetype": "text/x-python",
   "name": "python",
   "nbconvert_exporter": "python",
   "pygments_lexer": "ipython3",
   "version": "3.7.2"
  }
 },
 "nbformat": 4,
 "nbformat_minor": 2
}
