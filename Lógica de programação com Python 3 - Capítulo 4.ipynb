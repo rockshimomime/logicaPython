{
 "cells": [
  {
   "cell_type": "markdown",
   "metadata": {},
   "source": [
    "# Capítulo 4\n",
    "\n",
    "## Condicões"
   ]
  },
  {
   "cell_type": "markdown",
   "metadata": {},
   "source": [
    "### Exercício 4.1\n",
    "\n",
    "Analisando um programa que executa um bloco if que analisa o maior número digitado, o que acontece se ambos os valores forem iguais?"
   ]
  },
  {
   "cell_type": "markdown",
   "metadata": {},
   "source": [
    "```python\n",
    "num1 = 2\n",
    "num2 = 2\n",
    "\n",
    "if num1 > num2:\n",
    "    print(\"%d é o maior número\", num1)\n",
    "if num2 > num2:\n",
    "    print(\"%d é o maior\", num2)\n",
    "```\n",
    "#### Resposta:\n",
    "\n",
    "No exemplo acima nenhuma saída é exibida já que a condição do If não é satisfeita. Caso a comparação ocorra com os operadores **>=** ambas as linhas serão executadas."
   ]
  },
  {
   "cell_type": "markdown",
   "metadata": {},
   "source": [
    "### Exercício 4.2\n",
    "\n",
    "Escreva um programa que pergunte a um usuário a velocidade do carro. Caso ultrapasse 80km/h, exiba uma mensagem dizendo que ele foi multado. Cobre R$5 para cada KM acima do permitido. "
   ]
  },
  {
   "cell_type": "code",
   "execution_count": 1,
   "metadata": {},
   "outputs": [
    {
     "name": "stdout",
     "output_type": "stream",
     "text": [
      "Digite a sua velocidade: 86\n",
      "Você ultrapassou o limite máximo da via e foi multado em R$ 30\n"
     ]
    }
   ],
   "source": [
    "velocidade = int(input(\"Digite a sua velocidade: \"))\n",
    "\n",
    "if velocidade > 80:\n",
    "    print(\"Você ultrapassou o limite máximo da via e foi multado em R$ {}\".format((velocidade - 80) * 5))\n",
    "else:\n",
    "    print(\"Você está dentro do limite permitido.\")"
   ]
  },
  {
   "cell_type": "markdown",
   "metadata": {},
   "source": [
    "### Exercício 4.3\n",
    "\n",
    "Escreva um programa que leia três números e imprima o maior e o menor."
   ]
  },
  {
   "cell_type": "code",
   "execution_count": 2,
   "metadata": {},
   "outputs": [
    {
     "name": "stdout",
     "output_type": "stream",
     "text": [
      "Digite o primeiro número: 15\n",
      "Digite o segundo número: 65\n",
      "Digite o terceiro número: 123\n",
      "\n",
      "Maior valor: 123\n",
      "Menor valor: 15\n"
     ]
    }
   ],
   "source": [
    "num1 = int(input(\"Digite o primeiro número: \"))\n",
    "num2 = int(input(\"Digite o segundo número: \"))\n",
    "num3 = int(input(\"Digite o terceiro número: \"))\n",
    "\n",
    "if num1 > num2 and num1 > num3:\n",
    "    maior = num1\n",
    "\n",
    "elif num2 > num3 and num2 > num1:\n",
    "    maior = num2\n",
    "\n",
    "else:\n",
    "    maior = num3\n",
    "\n",
    "if num1 < num2 and num1 < num3:\n",
    "    menor = num1\n",
    "\n",
    "elif num2 < num3 and num2 < num1:\n",
    "    menor = num2\n",
    "\n",
    "else:\n",
    "    menor = num3\n",
    "\n",
    "print(\"\\nMaior valor: {}\\nMenor valor: {}\".format(maior, menor))"
   ]
  },
  {
   "cell_type": "markdown",
   "metadata": {},
   "source": [
    "### Exercício 4.4\n",
    "\n",
    "Escreva um programa que calcule um aumento salarial. Para salários superiores a R$ 1.250,00, calcule um aumento de 10%. Para os inferiores ou iguais, 15%."
   ]
  },
  {
   "cell_type": "code",
   "execution_count": 3,
   "metadata": {},
   "outputs": [
    {
     "name": "stdout",
     "output_type": "stream",
     "text": [
      "Digite o seu salário: 1568\n",
      "Após o bônus o seu salário é de: 1724.80\n"
     ]
    }
   ],
   "source": [
    "salario = float(input(\"Digite o seu salário: \"))\n",
    "\n",
    "if salario <= 1250:\n",
    "    salario += salario * 0.15\n",
    "\n",
    "else:\n",
    "    salario += salario * 0.10\n",
    "\n",
    "print(\"Após o bônus o seu salário é de: {:.2f}\".format(salario))"
   ]
  },
  {
   "cell_type": "markdown",
   "metadata": {},
   "source": [
    "### Exercício 4.5 \n",
    "\n",
    "Executa o programa com diversos valores.\n",
    "\n",
    "```python\n",
    "idade = int(input(\"Digite a idade do seu carro\"))\n",
    "\n",
    "if idade < 3:\n",
    "    print(\"Seu carro é novo\")\n",
    "else:\n",
    "    print(\"Seu carro é velho\")\n",
    "```"
   ]
  },
  {
   "cell_type": "code",
   "execution_count": 4,
   "metadata": {},
   "outputs": [
    {
     "name": "stdout",
     "output_type": "stream",
     "text": [
      "Digite a idade do seu carro12\n",
      "Seu carro é velho\n"
     ]
    }
   ],
   "source": [
    "idade = int(input(\"Digite a idade do seu carro\"))\n",
    "\n",
    "if idade < 3:\n",
    "    print(\"Seu carro é novo\")\n",
    "else:\n",
    "    print(\"Seu carro é velho\")"
   ]
  },
  {
   "cell_type": "markdown",
   "metadata": {},
   "source": [
    "### Exercício 4.6\n",
    "\n",
    "Escreva um programa que pergunte a distância que um passageiro deseja percorrer em km. Calcule o preço da passagem, cobrando R$$ 0,50 por km para viagens de até 200km e R$0,45 para viagens mais longas."
   ]
  },
  {
   "cell_type": "code",
   "execution_count": 5,
   "metadata": {},
   "outputs": [
    {
     "name": "stdout",
     "output_type": "stream",
     "text": [
      "Digite a distância em KM: 85\n",
      "O total a ser pago é: R$42.50\n"
     ]
    }
   ],
   "source": [
    "distancia = int(input(\"Digite a distância em KM: \"))\n",
    "\n",
    "if distancia > 200:\n",
    "    total = distancia * 0.45\n",
    "else:\n",
    "    total = distancia * 0.50\n",
    "\n",
    "print(\"O total a ser pago é: R${:.2f}\".format(total))"
   ]
  },
  {
   "cell_type": "markdown",
   "metadata": {},
   "source": [
    "### Exercício 4.7\n",
    "\n",
    "Rastreie o programa da listagem 4.7. Compare seu resultado ao apresentado na tabela 4.2"
   ]
  },
  {
   "cell_type": "code",
   "execution_count": 6,
   "metadata": {},
   "outputs": [],
   "source": [
    "# O exemplo no livro explica as diferenças entre if's alinhados e o comando elif"
   ]
  },
  {
   "cell_type": "markdown",
   "metadata": {},
   "source": [
    "### Exercício 4.8\n",
    "\n",
    "Escreva um programa que leia dois números e que pergunte qual operação você deseja realizar: (+ - x /) e exiba o resultado."
   ]
  },
  {
   "cell_type": "code",
   "execution_count": 7,
   "metadata": {},
   "outputs": [
    {
     "name": "stdout",
     "output_type": "stream",
     "text": [
      "Digite o primeiro número: 123\n",
      "Digite o segundo número: 456\n",
      "Qual operação você deseja realizar (+ - x /): +\n",
      "Total:  579\n"
     ]
    }
   ],
   "source": [
    "num1 = int(input(\"Digite o primeiro número: \"))\n",
    "num2 = int(input(\"Digite o segundo número: \"))\n",
    "operacao = input(\"Qual operação você deseja realizar (+ - x /): \")\n",
    "\n",
    "if operacao == \"x\":\n",
    "    total = num1 * num2\n",
    "\n",
    "elif operacao == \"-\":\n",
    "    total = num1 - num2\n",
    "\n",
    "elif operacao == \"/\":\n",
    "    total = num1 / num2\n",
    "\n",
    "else:\n",
    "    total = num1 + num2\n",
    "    \n",
    "print(\"Total: \", total)"
   ]
  },
  {
   "cell_type": "markdown",
   "metadata": {},
   "source": [
    "### Exercício 4.9\n",
    "\n",
    "Escreva um programa para aprovar o empréstimo bancário para compra de uma casa. O programa deve perguntar o valor da casa a comprar, o salário do comprador e a quantidade de anos a pagar. O valor da prestação mensal não pode ser superior a 30% do salário. Calcule o valor da prestação como sendo o valor casa a comprar dividido pelo número de meses a pagar."
   ]
  },
  {
   "cell_type": "code",
   "execution_count": 8,
   "metadata": {},
   "outputs": [
    {
     "name": "stdout",
     "output_type": "stream",
     "text": [
      "Digite o valor da casa: 20000\n",
      "Digite o seu salário: 3600\n",
      "Digite a quantidade de anos do financiamento: 20\n",
      "Seu financiamento foi autorizado. O valor das parcelas é de: 83.33\n"
     ]
    }
   ],
   "source": [
    "valor_casa = float(input(\"Digite o valor da casa: \"))\n",
    "salario = float(input(\"Digite o seu salário: \"))\n",
    "anos_a_pagar = int(input(\"Digite a quantidade de anos do financiamento: \"))\n",
    "\n",
    "valor_a_pagar = valor_casa / (anos_a_pagar * 12)\n",
    "\n",
    "if salario * 0.3 > valor_a_pagar:\n",
    "    print(\"Seu financiamento foi autorizado. O valor das parcelas é de: {:.2f}\".format(valor_a_pagar))\n",
    "else:\n",
    "    print(\"Infelizmente o valor do financiamento supera o limite de 30% da sua renda fixa mensal.\")"
   ]
  },
  {
   "cell_type": "markdown",
   "metadata": {},
   "source": [
    "### Exercício 4.10\n",
    "\n",
    "Escreva um programa que calcule o preço a pagar pelo fornecimento de energia elétrica. Pergunte a quantidade de kWh consumida e o tipo de instalação: **`R`**  para residências, __`I`__ para indústrias e **`C`** para comércios. Calcule o preço a pagar de acordo com a tabela a seguir:\n",
    "\n",
    "\n",
    "\n",
    "<center><b>Preço por tipo e fiaxa de consumo</b></center>\n",
    "\n",
    "\n",
    "|  Tipo |  Faixa | Preço  |\n",
    "|---|---|---|\n",
    "| Residencial | Até 500 | `R$` 0,40 |\n",
    "| Residencial | Acima de 500 |   0,65 |\n",
    "|Comercial | Até 1000 | `R$` 0,55 |\n",
    "|Comercial | Acima 1000 | 0,60|\n",
    "| Industrial | Até 5000 |  `R$` 0,55 |\n",
    "| Industrial | Acima 5000 |   0,60 |"
   ]
  },
  {
   "cell_type": "code",
   "execution_count": 9,
   "metadata": {},
   "outputs": [
    {
     "name": "stdout",
     "output_type": "stream",
     "text": [
      "Digite a quantidade de kWh usados: 5001\n",
      "Digite o tipo de instalação R, I ou C: I\n",
      "Total R$: 3000.60\n"
     ]
    }
   ],
   "source": [
    "kwh = int(input(\"Digite a quantidade de kWh usados: \"))\n",
    "tipo_instalação = input(\"Digite o tipo de instalação R, I ou C: \")\n",
    "\n",
    "if tipo_instalação == \"R\" and kwh <= 500:\n",
    "    total = kwh * 0.40\n",
    "elif tipo_instalação == \"R\" and kwh > 500:\n",
    "    total = kwh * 0.65\n",
    "elif tipo_instalação == \"C\" and kwh <= 1000:\n",
    "    total = kwh * 0.55\n",
    "elif tipo_instalação == \"C\" and kwh > 1000:\n",
    "    total = kwh * 0.60\n",
    "elif tipo_instalação == \"I\" and kwh <= 5000:\n",
    "    total = kwh * 0.55\n",
    "elif tipo_instalação == \"I\" and kwh > 5000:\n",
    "    total = kwh * 0.60\n",
    "    \n",
    "print(\"Total R$: {:.2f}\".format(total))"
   ]
  }
 ],
 "metadata": {
  "kernelspec": {
   "display_name": "Python 3",
   "language": "python",
   "name": "python3"
  },
  "language_info": {
   "codemirror_mode": {
    "name": "ipython",
    "version": 3
   },
   "file_extension": ".py",
   "mimetype": "text/x-python",
   "name": "python",
   "nbconvert_exporter": "python",
   "pygments_lexer": "ipython3",
   "version": "3.7.2"
  }
 },
 "nbformat": 4,
 "nbformat_minor": 2
}
