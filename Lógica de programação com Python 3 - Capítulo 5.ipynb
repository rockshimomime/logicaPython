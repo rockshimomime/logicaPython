{
 "cells": [
  {
   "cell_type": "markdown",
   "metadata": {},
   "source": [
    "# Capítulo 5\n",
    "\n",
    "## Repetições"
   ]
  },
  {
   "cell_type": "markdown",
   "metadata": {},
   "source": [
    "### Exercício 5.1\n",
    "\n",
    "Modifique o programa (exemplo contido no livro) para imprimir os números de 1 a 100."
   ]
  },
  {
   "cell_type": "code",
   "execution_count": 3,
   "metadata": {},
   "outputs": [
    {
     "name": "stdout",
     "output_type": "stream",
     "text": [
      "1, 2, 3, 4, 5, 6, 7, 8, 9, 10, 11, 12, 13, 14, 15, 16, 17, 18, 19, 20, 21, 22, 23, 24, 25, 26, 27, 28, 29, 30, 31, 32, 33, 34, 35, 36, 37, 38, 39, 40, 41, 42, 43, 44, 45, 46, 47, 48, 49, 50, 51, 52, 53, 54, 55, 56, 57, 58, 59, 60, 61, 62, 63, 64, 65, 66, 67, 68, 69, 70, 71, 72, 73, 74, 75, 76, 77, 78, 79, 80, 81, 82, 83, 84, 85, 86, 87, 88, 89, 90, 91, 92, 93, 94, 95, 96, 97, 98, 99, 100\n"
     ]
    }
   ],
   "source": [
    "i = 1\n",
    "\n",
    "while i <= 100:\n",
    "    print(i, end=', ')\n",
    "    i += 1\n",
    "    if i == 100:\n",
    "        print(100)\n",
    "        break"
   ]
  },
  {
   "cell_type": "markdown",
   "metadata": {},
   "source": [
    "### Exercício 5.2\n",
    "\n",
    "Modifique o programa para exibir os números de 50 a 100."
   ]
  },
  {
   "cell_type": "code",
   "execution_count": 1,
   "metadata": {},
   "outputs": [
    {
     "name": "stdout",
     "output_type": "stream",
     "text": [
      "50, 51, 52, 53, 54, 55, 56, 57, 58, 59, 60, 61, 62, 63, 64, 65, 66, 67, 68, 69, 70, 71, 72, 73, 74, 75, 76, 77, 78, 79, 80, 81, 82, 83, 84, 85, 86, 87, 88, 89, 90, 91, 92, 93, 94, 95, 96, 97, 98, 99, 100\n"
     ]
    }
   ],
   "source": [
    "i = 50\n",
    "\n",
    "while i <= 100:\n",
    "    print(i, end=', ')\n",
    "    i += 1\n",
    "    if i == 100:\n",
    "        print(100)\n",
    "        break"
   ]
  },
  {
   "cell_type": "markdown",
   "metadata": {},
   "source": [
    "### Exercício 5.3\n",
    "\n",
    "Faça um programa para escrever a contagem regressiva do lançamento de um foguete. O programa deve imprimir 10, 9, 8 ... 1, 0 e Fogo! na tela."
   ]
  },
  {
   "cell_type": "code",
   "execution_count": 2,
   "metadata": {},
   "outputs": [
    {
     "name": "stdout",
     "output_type": "stream",
     "text": [
      "10, 9, 8, 7, 6, 5, 4, 3, 2, 1, 0 e Fogo!\n"
     ]
    }
   ],
   "source": [
    "i = 10\n",
    "\n",
    "while i >= 0:\n",
    "    print(i, end=', ')\n",
    "    i-= 1\n",
    "    if i == 0:\n",
    "        print(0, \"e Fogo!\")\n",
    "        break"
   ]
  },
  {
   "cell_type": "markdown",
   "metadata": {},
   "source": [
    "### Exercício 5.4\n",
    "\n",
    "Modifique o programa anterior para imprimir de 1 até o número digitado pelo usuário, mas, dessa vez, apenas os números ímpares."
   ]
  },
  {
   "cell_type": "code",
   "execution_count": null,
   "metadata": {},
   "outputs": [],
   "source": [
    "i = 1\n",
    "n = int(input(\"Digite o número final: \"))\n",
    "\n",
    "while i <= n:\n",
    "    if i % 2 != 0:\n",
    "        if i == n:\n",
    "            print(n)\n",
    "            break\n",
    "        print(i, end=', ')\n",
    "    i += 1"
   ]
  },
  {
   "cell_type": "markdown",
   "metadata": {},
   "source": [
    "### Exercício 5.5\n",
    "\n",
    "Reescreva o programa anterior para escrever os 10 primeiros múltiplos de 3."
   ]
  },
  {
   "cell_type": "code",
   "execution_count": 3,
   "metadata": {},
   "outputs": [
    {
     "name": "stdout",
     "output_type": "stream",
     "text": [
      "3, 6, 9, 12, 15, 18, 21, 24, 27, 30\n"
     ]
    }
   ],
   "source": [
    "i = 1\n",
    "n = 3\n",
    "while i < 10:\n",
    "    print(n, end=', ')\n",
    "    n += 3\n",
    "    i += 1\n",
    "    if i == 10:\n",
    "        print(n)\n",
    "        break"
   ]
  },
  {
   "cell_type": "markdown",
   "metadata": {},
   "source": [
    "### Exercício 5.6\n",
    "\n",
    "Altere o programa anterior (livro) para exibir os resultados no mesmo formato de uma tabuada: 2x1 = 2, 2x2 = 4..."
   ]
  },
  {
   "cell_type": "code",
   "execution_count": 4,
   "metadata": {},
   "outputs": [
    {
     "name": "stdout",
     "output_type": "stream",
     "text": [
      "2 x 1 = 2\n",
      "2 x 2 = 4\n",
      "2 x 3 = 6\n",
      "2 x 4 = 8\n",
      "2 x 5 = 10\n",
      "2 x 6 = 12\n",
      "2 x 7 = 14\n",
      "2 x 8 = 16\n",
      "2 x 9 = 18\n",
      "2 x 10 = 20\n"
     ]
    }
   ],
   "source": [
    "i = 1\n",
    "\n",
    "while i <= 10:\n",
    "    print(\"2 x {} = {}\".format(i, 2 * i))\n",
    "    i += 1"
   ]
  },
  {
   "cell_type": "markdown",
   "metadata": {},
   "source": [
    "### Exercício 5.7\n",
    "\n",
    "Modifique o programa anterior para que o usuário digite o início e o fim da tabuada."
   ]
  },
  {
   "cell_type": "code",
   "execution_count": 5,
   "metadata": {},
   "outputs": [
    {
     "name": "stdout",
     "output_type": "stream",
     "text": [
      "Digite o início da tabuada: 5\n",
      "Digite o fim da tabuada: 9\n",
      "2 x 5 = 10\n",
      "2 x 6 = 12\n",
      "2 x 7 = 14\n",
      "2 x 8 = 16\n",
      "2 x 9 = 18\n"
     ]
    }
   ],
   "source": [
    "i = int(input(\"Digite o início da tabuada: \"))\n",
    "j = int(input(\"Digite o fim da tabuada: \"))\n",
    "\n",
    "while i <= j:\n",
    "    print(\"2 x {} = {}\".format(i, 2 * i))\n",
    "    i += 1"
   ]
  },
  {
   "cell_type": "markdown",
   "metadata": {},
   "source": [
    "### Exercício 5.8\n",
    "\n",
    "Escreva um programa que leia dois números. Imprima o resultado da multiplicação do primeiro pelo segundo. Utilize apenas os operadores de soma e subtração para calcular o resultado. Lembre-se de que podemos entender a multiplicação de dois números como somas sucessivas de um deles. Assim, 4 x 5 = 5 + 5 + 5 + 5 +5 = 4 + 4 + 4 + 4 +4"
   ]
  },
  {
   "cell_type": "code",
   "execution_count": 6,
   "metadata": {},
   "outputs": [
    {
     "name": "stdout",
     "output_type": "stream",
     "text": [
      "Digite o primeiro valor: 9\n",
      "Digite o segundo valor: 5\n",
      "Resultado: 45\n"
     ]
    }
   ],
   "source": [
    "a = int(input(\"Digite o primeiro valor: \"))\n",
    "b = int(input(\"Digite o segundo valor: \"))\n",
    "count = 1\n",
    "aux = a\n",
    "\n",
    "while count < b:\n",
    "    a += aux\n",
    "    count += 1\n",
    "print(\"Resultado: {}\".format(a))"
   ]
  },
  {
   "cell_type": "markdown",
   "metadata": {},
   "source": [
    "### Exercício 5.9\n",
    "\n",
    "Escreva um programa que leia dois números. Imprima a divisão inteira do primeiro pelo segundo, assim como o resto da divisão. Utilize apenas os operadores de soma e subtração para calcular o resultado. Lembre-se de que podemos entender o quociente da divisão de dois números como a quantidade de vezes que podemos retirar o divisor  do dividendo. Logo, 20 ÷ 4 = 5, uma vez que podemos subtrair 4 cinco vezes de 20."
   ]
  },
  {
   "cell_type": "code",
   "execution_count": 7,
   "metadata": {},
   "outputs": [
    {
     "name": "stdout",
     "output_type": "stream",
     "text": [
      "Digite o primeiro valor: 56\n",
      "Digite o segundo valor: 48\n",
      "O resultado da divisão é 1, sendo o seu resto o valor 8\n"
     ]
    }
   ],
   "source": [
    "a = int(input(\"Digite o primeiro valor: \"))\n",
    "b = int(input(\"Digite o segundo valor: \"))\n",
    "cont = 0\n",
    "while a >= b:\n",
    "    a -= b\n",
    "    cont += 1\n",
    "print(\"O resultado da divisão é {}, sendo o seu resto o valor {}\".format(cont, a))"
   ]
  },
  {
   "cell_type": "markdown",
   "metadata": {},
   "source": [
    "### Exercício 5.10\n",
    "\n",
    "Modifique o programa da listagem 5.10 (livro) para que aceite restas com letras maiúsculas e minúsculas em todas as questões."
   ]
  },
  {
   "cell_type": "code",
   "execution_count": 8,
   "metadata": {},
   "outputs": [
    {
     "name": "stdout",
     "output_type": "stream",
     "text": [
      "Digite a resposta da questão 1 (A,B,C ou D): a\n",
      "Digite a resposta da questão 2 (A,B,C ou D): b\n",
      "Digite a resposta da questão 3 (A,B,C ou D): a\n",
      "Você fez 0 pontos\n"
     ]
    }
   ],
   "source": [
    "pontos = 0\n",
    "questao = 1\n",
    "\n",
    "while questao <= 3:\n",
    "    resposta = input(\"Digite a resposta da questão {} (A,B,C ou D): \".format(questao))\n",
    "    if questao == 1 and resposta == \"b\" or resposta == \"B\":\n",
    "        pontos += 1\n",
    "\n",
    "    if questao == 2 and resposta == \"a\" or resposta == \"A\":\n",
    "        pontos += 1\n",
    "\n",
    "    if questao == 3 and resposta == \"d\" or resposta == \"D\":\n",
    "        pontos += 1\n",
    "    \n",
    "    questao += 1\n",
    "    \n",
    "print(\"Você fez {} pontos\".format(pontos))"
   ]
  },
  {
   "cell_type": "markdown",
   "metadata": {},
   "source": [
    "### Exercício 5.11\n",
    "\n",
    "Escreva um programa que pergunte o despósito inicial e a taxa de juros de uma poupança. Exiba os valores mês para os 24 primeiros meses. Escreva o total ganho com juros no período."
   ]
  },
  {
   "cell_type": "code",
   "execution_count": 9,
   "metadata": {},
   "outputs": [
    {
     "name": "stdout",
     "output_type": "stream",
     "text": [
      "Digite o depósito inicial: 1000\n",
      "Digite a taxa de júros mensal: 0.5\n",
      "O rendimento no mês 1 foi de: 5.00\n",
      "O rendimento no mês 2 foi de: 5.03\n",
      "O rendimento no mês 3 foi de: 5.05\n",
      "O rendimento no mês 4 foi de: 5.08\n",
      "O rendimento no mês 5 foi de: 5.10\n",
      "O rendimento no mês 6 foi de: 5.13\n",
      "O rendimento no mês 7 foi de: 5.15\n",
      "O rendimento no mês 8 foi de: 5.18\n",
      "O rendimento no mês 9 foi de: 5.20\n",
      "O rendimento no mês 10 foi de: 5.23\n",
      "O rendimento no mês 11 foi de: 5.26\n",
      "O rendimento no mês 12 foi de: 5.28\n",
      "O rendimento no mês 13 foi de: 5.31\n",
      "O rendimento no mês 14 foi de: 5.33\n",
      "O rendimento no mês 15 foi de: 5.36\n",
      "O rendimento no mês 16 foi de: 5.39\n",
      "O rendimento no mês 17 foi de: 5.42\n",
      "O rendimento no mês 18 foi de: 5.44\n",
      "O rendimento no mês 19 foi de: 5.47\n",
      "O rendimento no mês 20 foi de: 5.50\n",
      "O rendimento no mês 21 foi de: 5.52\n",
      "O rendimento no mês 22 foi de: 5.55\n",
      "O rendimento no mês 23 foi de: 5.58\n",
      "O rendimento no mês 24 foi de: 5.61\n",
      "O rendimento total da aplicação foi de:  127.16\n"
     ]
    }
   ],
   "source": [
    "deposito_inicial = float(input(\"Digite o depósito inicial: \"))\n",
    "taxa_jurso = float(input(\"Digite a taxa de júros mensal: \"))\n",
    "i = 0\n",
    "total = 0\n",
    "rendimento = 0\n",
    "while i < 24:\n",
    "    rendimento = deposito_inicial * taxa_jurso / 100\n",
    "    deposito_inicial += rendimento\n",
    "    i += 1\n",
    "    total += rendimento\n",
    "    print(\"O rendimento no mês {} foi de: {:.2f}\".format(i, rendimento))\n",
    "print(\"O rendimento total da aplicação foi de:  {:.2f}\".format(total))\n"
   ]
  },
  {
   "cell_type": "markdown",
   "metadata": {},
   "source": [
    "### Exercício 5.12\n",
    "\n",
    "Altere o programa anterior de forma a perguntar também o valor depositado mensalmente. Esse valor será depositado no início de cada mês, e você deve conderá-lo para o cálculo de juros."
   ]
  },
  {
   "cell_type": "code",
   "execution_count": 1,
   "metadata": {},
   "outputs": [
    {
     "name": "stdout",
     "output_type": "stream",
     "text": [
      "Digite o depósito inicial: 1000\n",
      "Digite a taxa de júros mensal: 10\n",
      "Digite o valor a ser depositado mensalmente: 120\n",
      "O rendimento no mês 1 foi de: 100.00\n",
      "O rendimento no mês 2 foi de: 122.00\n",
      "O rendimento no mês 3 foi de: 146.20\n",
      "O rendimento no mês 4 foi de: 172.82\n",
      "O rendimento no mês 5 foi de: 202.10\n",
      "O rendimento no mês 6 foi de: 234.31\n",
      "O rendimento no mês 7 foi de: 269.74\n",
      "O rendimento no mês 8 foi de: 308.72\n",
      "O rendimento no mês 9 foi de: 351.59\n",
      "O rendimento no mês 10 foi de: 398.75\n",
      "O rendimento no mês 11 foi de: 450.62\n",
      "O rendimento no mês 12 foi de: 507.69\n",
      "O rendimento no mês 13 foi de: 570.45\n",
      "O rendimento no mês 14 foi de: 639.50\n",
      "O rendimento no mês 15 foi de: 715.45\n",
      "O rendimento no mês 16 foi de: 798.99\n",
      "O rendimento no mês 17 foi de: 890.89\n",
      "O rendimento no mês 18 foi de: 991.98\n",
      "O rendimento no mês 19 foi de: 1103.18\n",
      "O rendimento no mês 20 foi de: 1225.50\n",
      "O rendimento no mês 21 foi de: 1360.05\n",
      "O rendimento no mês 22 foi de: 1508.05\n",
      "O rendimento no mês 23 foi de: 1670.86\n",
      "O rendimento no mês 24 foi de: 1849.95\n",
      "O rendimento total da aplicação foi de:  16589.41\n"
     ]
    }
   ],
   "source": [
    "deposito_inicial = float(input(\"Digite o depósito inicial: \"))\n",
    "taxa_juros = float(input(\"Digite a taxa de júros mensal: \"))\n",
    "i = 0\n",
    "total = 0\n",
    "rendimento = 0\n",
    "deposito_mensal = float(input(\"Digite o valor a ser depositado mensalmente: \"))\n",
    "while i < 24:\n",
    "    rendimento = deposito_inicial * taxa_juros / 100\n",
    "    deposito_inicial += rendimento + deposito_mensal\n",
    "    i += 1\n",
    "    total += rendimento\n",
    "    print(\"O rendimento no mês {} foi de: {:.2f}\".format(i, rendimento))\n",
    "print(\"O rendimento total da aplicação foi de:  {:.2f}\".format(total))"
   ]
  },
  {
   "cell_type": "markdown",
   "metadata": {},
   "source": [
    "### Exercício 5.13\n",
    "\n",
    "Escreva um programa que pergunte o valor inicial de uma dívida e o juro mensal. Pergunte também o valor mensal que será pago. Imprima o número de meses para que a dívida seja paga, o total pago e o total de juros pago."
   ]
  },
  {
   "cell_type": "code",
   "execution_count": 1,
   "metadata": {},
   "outputs": [
    {
     "name": "stdout",
     "output_type": "stream",
     "text": [
      "Digite o valor da dívida: 1000\n",
      "Digite o valor do juro mensal: 5\n",
      "Digite o valor que será pago mensalmente para quitar a dívida: 200\n",
      "Total de juros pagos durante o período 171.16\n",
      "Total de mêses para que a parcela seja paga: 5. Mais 1 (uma) parcela com o valor remanecente no valor de 171.16\n",
      "Total pago 1342.31\n"
     ]
    }
   ],
   "source": [
    "divida_inicial = float(input(\"Digite o valor da dívida: \"))\n",
    "juro_mensal = float(input(\"Digite o valor do juro mensal: \"))\n",
    "pagamento_mensal = float(\n",
    "    input(\"Digite o valor que será pago mensalmente para quitar a dívida: \"))\n",
    "meses = 0\n",
    "juros_pagos = 0\n",
    "\n",
    "if pagamento_mensal <= divida_inicial * juro_mensal / 100:\n",
    "    print(\"O valor pago mensalmente não será suficiente\"\n",
    "          \"para pagar a sua dívida.\")\n",
    "else:\n",
    "    while divida_inicial > pagamento_mensal:\n",
    "        juros = divida_inicial * juro_mensal / 100\n",
    "        divida_inicial += juros\n",
    "        divida_inicial -= pagamento_mensal\n",
    "        meses += 1\n",
    "        juros_pagos += juros\n",
    "\n",
    "print(\"Total de juros pagos durante o período {:.2f}\".format(juros_pagos))\n",
    "if divida_inicial > 0:\n",
    "    print(\"Total de mêses para que a parcela seja paga: {}. Mais 1 (uma) \"\n",
    "          \"parcela com o valor remanecente no valor de {:.2f}\".format(meses, divida_inicial))\n",
    "else:\n",
    "    print(\"Total de mêses para que a parcela seja paga {}\".format(meses))\n",
    "print(\"Total pago {:.2f}\".format(\n",
    "    (meses * pagamento_mensal + divida_inicial + juros_pagos)))\n"
   ]
  },
  {
   "cell_type": "markdown",
   "metadata": {},
   "source": [
    "### Exercício 5.14\n",
    "\n",
    "Escreva um programa que leia números inteiros do teclado. O programa deve ler os números até que o usuário digite 0. No final da execução, exiba a quantidade de números digitados, assim como a sua soma e a média aritmética."
   ]
  },
  {
   "cell_type": "code",
   "execution_count": 4,
   "metadata": {},
   "outputs": [
    {
     "name": "stdout",
     "output_type": "stream",
     "text": [
      "Digite o número: 8\n",
      "Digite o número: 8\n",
      "Digite o número: 0\n",
      "Números digitados: 2\n",
      "Soma: 16\n",
      "Média aritmética: 8.0\n"
     ]
    }
   ],
   "source": [
    "soma = 0\n",
    "i = 0\n",
    "\n",
    "while True:\n",
    "    numero = int(input(\"Digite o número: \"))\n",
    "    if numero != 0:\n",
    "        soma += numero\n",
    "        i += 1\n",
    "    else:\n",
    "        break\n",
    "print(\"Números digitados: {}\\nSoma: {}\\nMédia aritmética: {}\".format(\n",
    "    i, soma, (soma / i)))"
   ]
  },
  {
   "cell_type": "markdown",
   "metadata": {},
   "source": [
    "### Exercício 5.15\n",
    "\n",
    "Escreva um programa para controlar uma pequena máquina registradora. Você deve solicitar ao usuário que digite o código do produto e a quantidade comprada. Utilize a tabela de código abaixo para obter o preço de cada produto.\n",
    "\n",
    "|Código|  Preço |\n",
    "|---|---|\n",
    "| 1  | 0.50  |\n",
    "| 2  | 1.00  |\n",
    "| 3  | 4.00  |\n",
    "| 5  | 7.00  |\n",
    "| 9  | 8.00  |\n",
    "\n",
    "Seu programa deve exibir o total das compras depois que o usuário digitar 0. Qualquer outro código deve gerar uma mensagem de erro \"Código inválido\""
   ]
  },
  {
   "cell_type": "code",
   "execution_count": 5,
   "metadata": {},
   "outputs": [
    {
     "name": "stdout",
     "output_type": "stream",
     "text": [
      "Informe o código do produto: 1\n",
      "Quantidade comprada: 2\n",
      "Informe o código do produto: 3\n",
      "Quantidade comprada: 1\n",
      "Informe o código do produto: 9\n",
      "Quantidade comprada: 0\n",
      "Informe o código do produto: 0\n",
      "O total da compra foi: R$5.00\n"
     ]
    }
   ],
   "source": [
    "codigo_produto = 0\n",
    "quantidade = 0\n",
    "total = 0\n",
    "\n",
    "while True:\n",
    "    while True:\n",
    "        codigo_produto = int(input(\"Informe o código do produto: \"))\n",
    "        if codigo_produto < 0 or codigo_produto == 4 or codigo_produto > 5 and codigo_produto < 9 or codigo_produto >= 10:\n",
    "            print(\"O código do produto é inválido\")\n",
    "        else:\n",
    "            break\n",
    "\n",
    "    if codigo_produto == 0:\n",
    "        break\n",
    "\n",
    "    quantidade = float(input(\"Quantidade comprada: \"))\n",
    "    \n",
    "    if codigo_produto == 1:\n",
    "        total += quantidade * 0.50\n",
    "    elif codigo_produto == 2:\n",
    "        total += quantidade * 1.00\n",
    "    elif codigo_produto == 3:\n",
    "        total += quantidade * 4.00\n",
    "    elif codigo_produto == 5:\n",
    "        total += quantidade * 7.00\n",
    "    elif codigo_produto == 9:\n",
    "        total += quantidade * 8.00\n",
    "\n",
    "print(\"O total da compra foi: R${:.2f}\".format(total))"
   ]
  },
  {
   "cell_type": "markdown",
   "metadata": {},
   "source": [
    "### Exercício 5.16\n",
    "\n",
    "Execute o programa da listagem 5.14 (livro) para os seguintes valores: 501, 745, 384, 2, 7 e 1"
   ]
  },
  {
   "cell_type": "markdown",
   "metadata": {},
   "source": [
    "**Resposta**: O programa funciona corretamente"
   ]
  },
  {
   "cell_type": "markdown",
   "metadata": {},
   "source": [
    "### Exercício 5.17\n",
    "\n",
    "O que acontece se digitarmos 0 no valor a pagar?"
   ]
  },
  {
   "cell_type": "markdown",
   "metadata": {},
   "source": [
    "***Resposta***: O programa imprime um valor incorreto."
   ]
  },
  {
   "cell_type": "markdown",
   "metadata": {},
   "source": [
    "### Exercício 5.18\n",
    "\n",
    "Modifique o programa (listagem no livro) para que trabalhe também com notas de 100 reais."
   ]
  },
  {
   "cell_type": "code",
   "execution_count": 1,
   "metadata": {},
   "outputs": [
    {
     "name": "stdout",
     "output_type": "stream",
     "text": [
      "Digite o valor a pagar: 153\n",
      "1 cédulas de 100\n",
      "1 cédulas de 50\n",
      "0 cédulas de 20\n",
      "0 cédulas de 10\n",
      "0 cédulas de 5\n",
      "3 cédulas de 1\n"
     ]
    }
   ],
   "source": [
    "valor = int(input(\"Digite o valor a pagar: \"))\n",
    "cedulas = 0\n",
    "atual = 100\n",
    "apagar = valor\n",
    "\n",
    "while True:\n",
    "    if atual <= apagar:\n",
    "        apagar -= atual\n",
    "        cedulas += 1\n",
    "    else:\n",
    "        print(\"{} cédulas de {}\".format(cedulas, atual))\n",
    "\n",
    "        if apagar == 0:\n",
    "            break\n",
    "        if atual == 100:\n",
    "            atual = 50\n",
    "        elif atual == 50:\n",
    "            atual = 20\n",
    "        elif atual == 20:\n",
    "            atual = 10\n",
    "        elif atual == 10:\n",
    "            atual = 5\n",
    "        elif atual == 5:\n",
    "            atual = 1\n",
    "        cedulas = 0\n",
    "    "
   ]
  },
  {
   "cell_type": "markdown",
   "metadata": {},
   "source": [
    "### Exercício 5.19\n",
    "\n",
    "Modifique o programa para que também trabalhe com valores de moedas decimais."
   ]
  },
  {
   "cell_type": "code",
   "execution_count": 3,
   "metadata": {},
   "outputs": [
    {
     "name": "stdout",
     "output_type": "stream",
     "text": [
      "Digite o valor: 59.73\n",
      "1 cédulas de 50.00\n",
      "0 cédulas de 20.00\n",
      "0 cédulas de 10.00\n",
      "1 cédulas de 5.00\n",
      "4 cédulas de 1.00\n",
      "1 moedas de 0.50\n",
      "0 moedas de 0.25\n",
      "2 moedas de 0.10\n",
      "0 moedas de 0.05\n",
      "3 moedas de 0.01\n"
     ]
    }
   ],
   "source": [
    "valor = float(input(\"Digite o valor: \"))\n",
    "cedulas = 0\n",
    "atual = 50\n",
    "apagar = valor\n",
    "\n",
    "while True:\n",
    "    if atual <= apagar:\n",
    "        apagar -= atual\n",
    "        cedulas += 1\n",
    "    else:\n",
    "        if atual >= 1:\n",
    "            print(\"{} cédulas de {:.2f}\".format(cedulas, atual))\n",
    "        else:\n",
    "            if atual == 0.01:\n",
    "                print(\"{} moedas de {:.2f}\".format((cedulas + 1), atual))\n",
    "                break\n",
    "            else:\n",
    "                print(\"{} moedas de {:.2f}\".format(cedulas, atual))\n",
    "\n",
    "        if apagar == 0:\n",
    "            break\n",
    "        if atual == 50:\n",
    "            atual = 20\n",
    "        elif atual == 20:\n",
    "            atual = 10\n",
    "        elif atual == 10:\n",
    "            atual = 5\n",
    "        elif atual == 5:\n",
    "            atual = 1\n",
    "        elif atual == 1:\n",
    "            atual = 0.50\n",
    "        elif atual == 0.50:\n",
    "            atual = 0.25\n",
    "        elif atual == 0.25:\n",
    "            atual = 0.10\n",
    "        elif atual == 0.10:\n",
    "            atual = 0.05\n",
    "        elif atual == 0.05:\n",
    "            atual = 0.01\n",
    "\n",
    "        cedulas = 0"
   ]
  },
  {
   "cell_type": "markdown",
   "metadata": {},
   "source": [
    "### Exercício 5.20\n",
    "\n",
    "O que acontece se digitarmos 0.001 no programa anterior? Caso não funcione, altere-o de para corrigir o problema."
   ]
  },
  {
   "cell_type": "markdown",
   "metadata": {},
   "source": [
    "**Resposta**: O programa funciona com 1 centavo."
   ]
  },
  {
   "cell_type": "markdown",
   "metadata": {},
   "source": [
    "### Exercício 5.21\n",
    "\n",
    "Reescreva o programa para que ele seja reexecutado até o que usuário digite 0."
   ]
  },
  {
   "cell_type": "code",
   "execution_count": 4,
   "metadata": {},
   "outputs": [
    {
     "name": "stdout",
     "output_type": "stream",
     "text": [
      "Digite o valor: 2\n",
      "0 cédulas de 50.00\n",
      "0 cédulas de 20.00\n",
      "0 cédulas de 10.00\n",
      "0 cédulas de 5.00\n",
      "2 cédulas de 1.00\n",
      "Digite o valor: 0\n"
     ]
    }
   ],
   "source": [
    "while True:\n",
    "    valor = float(input(\"Digite o valor: \"))\n",
    "    cedulas = 0\n",
    "    atual = 50\n",
    "    apagar = valor\n",
    "    if valor == 0:\n",
    "        break\n",
    "    while True:\n",
    "        if atual <= apagar:\n",
    "            apagar -= atual\n",
    "            cedulas += 1\n",
    "        else:\n",
    "            if atual >= 1:\n",
    "                print(\"{} cédulas de {:.2f}\".format(cedulas, atual))\n",
    "            else:\n",
    "                if atual == 0.01:\n",
    "                    print(\"{} moedas de {:.2f}\".format((cedulas + 1), atual))\n",
    "                    break\n",
    "                else:\n",
    "                    print(\"{} moedas de {:.2f}\".format(cedulas, atual))\n",
    "\n",
    "            if apagar == 0:\n",
    "                break\n",
    "            if atual == 50:\n",
    "                atual = 20\n",
    "            elif atual == 20:\n",
    "                atual = 10\n",
    "            elif atual == 10:\n",
    "                atual = 5\n",
    "            elif atual == 5:\n",
    "                atual = 1\n",
    "            elif atual == 1:\n",
    "                atual = 0.50\n",
    "            elif atual == 0.50:\n",
    "                atual = 0.25\n",
    "            elif atual == 0.25:\n",
    "                atual = 0.10\n",
    "            elif atual == 0.10:\n",
    "                atual = 0.05\n",
    "            elif atual == 0.05:\n",
    "                atual = 0.01\n",
    "\n",
    "            cedulas = 0"
   ]
  },
  {
   "cell_type": "markdown",
   "metadata": {},
   "source": [
    "### Exercício 5.22\n",
    "\n",
    "Escreva um programa que exiba uma lista de opções: aritmética básica e **sair**. Imprima a tabuada da operação escolhida. Repita até que a opção saída seja escolhida."
   ]
  },
  {
   "cell_type": "code",
   "execution_count": 5,
   "metadata": {},
   "outputs": [
    {
     "name": "stdout",
     "output_type": "stream",
     "text": [
      "Escolha a operação (+ - ÷(/) x) ou digite 0 para sair: +\n",
      "1 + 2 = 3\n",
      "2 + 2 = 4\n",
      "3 + 2 = 5\n",
      "4 + 2 = 6\n",
      "5 + 2 = 7\n",
      "6 + 2 = 8\n",
      "7 + 2 = 9\n",
      "8 + 2 = 10\n",
      "9 + 2 = 11\n",
      "10 + 2 = 12\n",
      "Escolha a operação (+ - ÷(/) x) ou digite 0 para sair: *\n",
      "1 x 2 = 2\n",
      "2 x 2 = 4\n",
      "3 x 2 = 6\n",
      "4 x 2 = 8\n",
      "5 x 2 = 10\n",
      "6 x 2 = 12\n",
      "7 x 2 = 14\n",
      "8 x 2 = 16\n",
      "9 x 2 = 18\n",
      "10 x 2 = 20\n",
      "Escolha a operação (+ - ÷(/) x) ou digite 0 para sair: 0\n"
     ]
    }
   ],
   "source": [
    "while True:\n",
    "    operacao = input(\"Escolha a operação (+ - ÷(/) x) ou digite 0 para sair: \")\n",
    "    if operacao == \"0\":\n",
    "        break\n",
    "    elif operacao == \"*\":\n",
    "        i = 1\n",
    "        j = 1\n",
    "        while i <= 10:\n",
    "            i += 1\n",
    "            while j <= 10:\n",
    "                print(\"{} x {} = {}\".format(j, i, (j * i)))\n",
    "                j += 1\n",
    "    elif operacao == \"/\":\n",
    "        i = 1\n",
    "        j = 1\n",
    "        while i <= 10:\n",
    "            i += 1\n",
    "            while j <= 10:\n",
    "                print(\"{} / {} = {}\".format(j, i, (j / i)))\n",
    "                j += 1\n",
    "    elif operacao == \"-\":\n",
    "        i = 1\n",
    "        j = 1\n",
    "        while i <= 10:\n",
    "            i += 1\n",
    "            while j <= 10:\n",
    "                print(\"{} - {} = {}\".format(j, i, (j - i)))\n",
    "                j += 1\n",
    "    elif operacao == \"+\":\n",
    "        i = 1\n",
    "        j = 1\n",
    "        while i <= 10:\n",
    "            i += 1\n",
    "            while j <= 10:\n",
    "                print(\"{} + {} = {}\".format(j, i, (j + i)))\n",
    "                j += 1"
   ]
  },
  {
   "cell_type": "markdown",
   "metadata": {},
   "source": [
    "### Exercício 5.23\n",
    "\n",
    "Escreva um programa para verificar se ele é ou não um número primo. Para isso veja se o resto da divisão dele por 2 é diferente de 0. Depois verifique todos os números ímpares até chegar no valor do número."
   ]
  },
  {
   "cell_type": "code",
   "execution_count": 1,
   "metadata": {},
   "outputs": [
    {
     "name": "stdout",
     "output_type": "stream",
     "text": [
      "Digite um número: 853\n",
      "O número é primo\n"
     ]
    }
   ],
   "source": [
    "n = int(input(\"Digite um número: \"))\n",
    "\n",
    "verificador = 3\n",
    "\n",
    "while verificador < n:\n",
    "    if n % 2 == 0:\n",
    "        print(\"O número {} não é primo\")\n",
    "        break\n",
    "    elif n % verificador == 0:\n",
    "        print(\"O número {} não é primo\")\n",
    "        break\n",
    "    verificador += 2\n",
    "else:\n",
    "    print(\"O número é primo\")"
   ]
  },
  {
   "cell_type": "markdown",
   "metadata": {},
   "source": [
    "### Exercício 5.24\n",
    "\n",
    "Modifique o programa anterior de forma a ler um número **n**. Imprima os *n* primeiros números primos."
   ]
  },
  {
   "cell_type": "code",
   "execution_count": 1,
   "metadata": {},
   "outputs": [
    {
     "name": "stdout",
     "output_type": "stream",
     "text": [
      "Digite um número para ver os primos antecessores: 50\n",
      "3\n",
      "5\n",
      "7\n",
      "11\n",
      "13\n",
      "17\n",
      "19\n",
      "23\n",
      "29\n",
      "31\n",
      "37\n",
      "41\n",
      "43\n",
      "47\n"
     ]
    }
   ],
   "source": [
    "ultimo = int(input(\"Digite um número para ver os primos antecessores: \"))\n",
    "n = 3\n",
    "while True:\n",
    "    verificador = 3\n",
    "\n",
    "    if n % 2 == 0:\n",
    "        break\n",
    "    else:\n",
    "        while verificador < n:\n",
    "            if n % verificador == 0:\n",
    "                break\n",
    "            verificador += 2\n",
    "        else:\n",
    "            print(n)\n",
    "    n += 2\n",
    "    if n > ultimo:\n",
    "        break"
   ]
  },
  {
   "cell_type": "markdown",
   "metadata": {},
   "source": [
    "### Exercício 5.25\n",
    "\n",
    "Escreva um programa que calcule a raiz quadrada de um número. Utilize o método de Newton para obter um resultado aproximado. Sendo N o número a obter a raiz quadrada, condere a base b = 2. Calcule P usanndo a formula p = (b+(n/b))/2. Agora, calcule o quadrado de P. A cada passo faça b = p e recalcule P usando a fóruma apresentada. Pare quando a diferença absoluta entre N e o quadrado de P for menor que 0,0001."
   ]
  },
  {
   "cell_type": "code",
   "execution_count": 4,
   "metadata": {},
   "outputs": [
    {
     "name": "stdout",
     "output_type": "stream",
     "text": [
      "Digite o número: 9\n",
      "3.25\n"
     ]
    }
   ],
   "source": [
    "n = int(input(\"Digite o número: \"))\n",
    "b = 2\n",
    "\n",
    "while (n - (b * b)) / 2 > 0.00001:\n",
    "    p = (b+(n/b))/2\n",
    "    b = p\n",
    "\n",
    "print(b)"
   ]
  },
  {
   "cell_type": "markdown",
   "metadata": {},
   "source": [
    "### Exercício 5.26\n",
    "\n",
    "Escreva um programa que calcule o resto da divisão inteira entre dois números. Utilize apenas as operações de soma e subtração."
   ]
  },
  {
   "cell_type": "code",
   "execution_count": 3,
   "metadata": {},
   "outputs": [
    {
     "name": "stdout",
     "output_type": "stream",
     "text": [
      "Digite o primeiro número: 57\n",
      "Digite o segundo número: 8\n",
      "O resto da divisão é:  1\n"
     ]
    }
   ],
   "source": [
    "n = int(input(\"Digite o primeiro número: \"))\n",
    "n2 = int(input(\"Digite o segundo número: \"))\n",
    "i = 0\n",
    "\n",
    "# ordenando os números para evitar erro de negativos\n",
    "if n2 > n:\n",
    "    aux = n\n",
    "    n = n2\n",
    "    n2 = aux\n",
    "\n",
    "while n > n2:\n",
    "    n = n - n2\n",
    "    i += 1\n",
    "print(\"O resto da divisão é: \", n)"
   ]
  },
  {
   "cell_type": "markdown",
   "metadata": {},
   "source": [
    "### Exercício 5.27\n",
    "\n",
    "Escreva um programa que verifique se um número é palíndromo. Um número é palíndromo se contina o mesmo caso seus dígitos sejam invertidos.\n",
    "\n",
    "Exemplos: 454, 10501"
   ]
  },
  {
   "cell_type": "code",
   "execution_count": 2,
   "metadata": {},
   "outputs": [
    {
     "name": "stdout",
     "output_type": "stream",
     "text": [
      "Digite o número para verificar se ele é um palíndromo: 454\n",
      "O número é um palíndromo.\n"
     ]
    }
   ],
   "source": [
    "# Para a verificação eu optei por utilizar uma string, já que eu consigo percorrer o número e fazer a validação.\n",
    "\n",
    "palindromo = str(input(\"Digite o número para verificar se ele é um palíndromo: \"))\n",
    "i = len(palindromo) - 1\n",
    "verificacao = \"\"\n",
    "while i >= 0:\n",
    "    verificacao += palindromo[i]\n",
    "    i -= 1\n",
    "if verificacao == palindromo:\n",
    "    print(\"O número é um palíndromo.\")\n",
    "else:\n",
    "    print(\"O número não é um palíndromo.\")"
   ]
  }
 ],
 "metadata": {
  "kernelspec": {
   "display_name": "Python 3",
   "language": "python",
   "name": "python3"
  },
  "language_info": {
   "codemirror_mode": {
    "name": "ipython",
    "version": 3
   },
   "file_extension": ".py",
   "mimetype": "text/x-python",
   "name": "python",
   "nbconvert_exporter": "python",
   "pygments_lexer": "ipython3",
   "version": "3.7.0"
  }
 },
 "nbformat": 4,
 "nbformat_minor": 2
}
