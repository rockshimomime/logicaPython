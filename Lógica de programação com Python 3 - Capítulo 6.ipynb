{
 "cells": [
  {
   "cell_type": "markdown",
   "metadata": {},
   "source": [
    "# Capítulo 6\n",
    "\n",
    "## Listas"
   ]
  },
  {
   "cell_type": "markdown",
   "metadata": {},
   "source": [
    "### Exercício 6.1\n",
    "\n",
    "Modifique o programa da listagem 6.6 para ler 7 notas em vez de 5."
   ]
  },
  {
   "cell_type": "code",
   "execution_count": 1,
   "metadata": {},
   "outputs": [
    {
     "name": "stdout",
     "output_type": "stream",
     "text": [
      "Insira a nota 1: 10\n",
      "Insira a nota 2: 9\n",
      "Insira a nota 3: 8\n",
      "Insira a nota 4: 10\n",
      "Insira a nota 5: 10\n",
      "Insira a nota 6: 6\n",
      "Insira a nota 7: 7\n",
      "Nota 1: 10\n",
      "Nota 2: 9\n",
      "Nota 3: 8\n",
      "Nota 4: 10\n",
      "Nota 5: 10\n",
      "Nota 6: 6\n",
      "Nota 7: 7\n",
      "Média 8.57\n"
     ]
    }
   ],
   "source": [
    "notas = [0, 0, 0, 0, 0, 0, 0]\n",
    "soma = 0\n",
    "x = 0\n",
    "\n",
    "while x < 7:\n",
    "    notas[x] = int(input(\"Insira a nota {}: \".format(x + 1)))\n",
    "    soma += notas[x]\n",
    "    x += 1\n",
    "\n",
    "x = 0\n",
    "\n",
    "while x < 7:\n",
    "    print(\"Nota {}: {}\".format(x + 1, notas[x]))\n",
    "    x += 1\n",
    "\n",
    "print(\"Média {:.2f}\".format(soma / x))"
   ]
  },
  {
   "cell_type": "markdown",
   "metadata": {},
   "source": [
    "### Exercício 6.2\n",
    "\n",
    "Faça um programa que leia duas listas e gera uma terceira com os elementos das duas primeiras."
   ]
  },
  {
   "cell_type": "code",
   "execution_count": 1,
   "metadata": {},
   "outputs": [
    {
     "name": "stdout",
     "output_type": "stream",
     "text": [
      "[1, 5, 48, 6, 48, 6, 4, 15, 46, 48, 3, 1, 53, 15, 6]\n"
     ]
    }
   ],
   "source": [
    "lista1 = [1, 5, 48, 6, 48, 6, 4]\n",
    "lista2 = [15, 46, 48, 3, 1, 53, 15, 6]\n",
    "lista3 = lista1[:]\n",
    "lista3.extend(lista2)\n",
    "\n",
    "print(lista3)"
   ]
  },
  {
   "cell_type": "markdown",
   "metadata": {},
   "source": [
    "### Exercício 6.3\n",
    "\n",
    "Faça um programa que percorra duas listas e gere uma terceira sem elementos repetidos."
   ]
  },
  {
   "cell_type": "code",
   "execution_count": 1,
   "metadata": {},
   "outputs": [
    {
     "name": "stdout",
     "output_type": "stream",
     "text": [
      "[1, 2, 3, 45, 6, 4, 5, 15, 17, 18, 20]\n"
     ]
    }
   ],
   "source": [
    "primeira_lista = [1, 2, 3, 4, 5, 6]\n",
    "segunda_lista = [1, 2, 3, 4, 15, 17, 18, 20]\n",
    "lista2 = primeira_lista[:]\n",
    "lista2.extend(segunda_lista)\n",
    "lista = [1, 2, 3, 45, 6]\n",
    "i = 0\n",
    "j = 0\n",
    "\n",
    "while j < len(lista2):\n",
    "    i = 0\n",
    "    while i < len(lista) - 1:\n",
    "        if lista2[j] == lista[i]:\n",
    "            break\n",
    "        else:\n",
    "            i += 1\n",
    "    else:\n",
    "        lista.append(lista2[j])\n",
    "    j += 1\n",
    "print(lista)"
   ]
  },
  {
   "cell_type": "markdown",
   "metadata": {},
   "source": [
    "### Exercício 6.4\n",
    "\n",
    "O que acontece quando não verificamos (exemplo no livro) se a lista está vazia antes de chamarmos o método **pop**?"
   ]
  },
  {
   "cell_type": "markdown",
   "metadata": {},
   "source": [
    "**Resposta**:\n",
    "Uma Exception ocorre informando que a lista está vazia e o programa para a execução."
   ]
  },
  {
   "cell_type": "markdown",
   "metadata": {},
   "source": [
    "### Exercício 6.5\n",
    "\n",
    "Altere o programa da listagem 6.21 de forma a poder trabalhar com vários comandos digitados de uma vez só. Atualmente, apenas um comando pode ser inserido por vez. Altere-o de forma a considerar operação como string.\n",
    "\n",
    "Exemplo: FFFAAAS."
   ]
  },
  {
   "cell_type": "code",
   "execution_count": 2,
   "metadata": {},
   "outputs": [
    {
     "name": "stdout",
     "output_type": "stream",
     "text": [
      "\n",
      "Existem 10 cliente na fila\n",
      "Fila atual:  [1, 2, 3, 4, 5, 6, 7, 8, 9, 10]\n",
      "Digite F para adicionar um cliente ao fim da fila,\n",
      "ou digite A para realizar o atendimento. S para sair.\n",
      "Operação (F, A ou S): AAAFFFFS\n",
      "Cliente 1 atendido\n",
      "Cliente 2 atendido\n",
      "Cliente 3 atendido\n",
      "\n",
      "Existem 11 cliente na fila\n",
      "Fila atual:  [4, 5, 6, 7, 8, 9, 10, 11, 12, 13, 14]\n",
      "Digite F para adicionar um cliente ao fim da fila,\n",
      "ou digite A para realizar o atendimento. S para sair.\n"
     ]
    }
   ],
   "source": [
    "ultimo = 10\n",
    "fila = list(range(1, ultimo + 1))\n",
    "parar = False\n",
    "while True:\n",
    "    print(\"\\nExistem {} cliente na fila\".format(len(fila)))\n",
    "    print(\"Fila atual: \", fila)\n",
    "    print(\"Digite F para adicionar um cliente ao fim da fila,\")\n",
    "    print(\"ou digite A para realizar o atendimento. S para sair.\")\n",
    "\n",
    "    if parar:\n",
    "        break\n",
    "\n",
    "    operacao = input(\"Operação (F, A ou S): \")\n",
    "    i = 0\n",
    "\n",
    "    while len(operacao) > i:\n",
    "        if operacao[i] == \"A\":\n",
    "            if len(fila) > 0:\n",
    "                atendido = fila.pop(0)\n",
    "                print(\"Cliente {} atendido\".format(atendido))\n",
    "            else:\n",
    "                print(\"Fila vazia. Ninguém para atender\")\n",
    "        elif operacao[i] == \"F\":\n",
    "            ultimo += 1\n",
    "            fila.append(ultimo)\n",
    "        elif operacao[i] == \"S\":\n",
    "            parar = True\n",
    "            break\n",
    "        else:\n",
    "            print(\"Operação inválida\")\n",
    "        i += 1"
   ]
  },
  {
   "cell_type": "markdown",
   "metadata": {},
   "source": [
    "### Exercício 6.6\n",
    "\n",
    "Modifique o programa para trabalhar com duas filas. Para facilitar o seu trabalho, considera o comando A para atendimento da fila 1; e B, para atendimento da fila 2. O mesmo para a chegada de clientes: F para fila 1; e G, para a fila 2."
   ]
  },
  {
   "cell_type": "code",
   "execution_count": 3,
   "metadata": {},
   "outputs": [
    {
     "name": "stdout",
     "output_type": "stream",
     "text": [
      "\n",
      "Existem 10 cliente na Fila 1\n",
      "Existem 10 cliente na Fila 2\n",
      "Fila 1:  [1, 2, 3, 4, 5, 6, 7, 8, 9, 10]\n",
      "Fila 2:  [1, 2, 3, 4, 5, 6, 7, 8, 9, 10]\n",
      "Digite F para adicionar um cliente ao fim da fila 1, ou G para fila 2\n",
      "Digite A para realizar o atendimento na fila 1 ou B para fila 2. S para sair.\n",
      "Operação (F, A, B, G ou S): AAAFFGGBS\n",
      "Cliente 1 atendido\n",
      "Cliente 2 atendido\n",
      "Cliente 3 atendido\n",
      "Cliente 1 atendido\n",
      "\n",
      "Existem 9 cliente na Fila 1\n",
      "Existem 11 cliente na Fila 2\n",
      "Fila 1:  [4, 5, 6, 7, 8, 9, 10, 11, 12]\n",
      "Fila 2:  [2, 3, 4, 5, 6, 7, 8, 9, 10, 13, 14]\n",
      "Digite F para adicionar um cliente ao fim da fila 1, ou G para fila 2\n",
      "Digite A para realizar o atendimento na fila 1 ou B para fila 2. S para sair.\n"
     ]
    }
   ],
   "source": [
    "ultimo = 10\n",
    "ultimo2 = 10\n",
    "fila = list(range(1, ultimo + 1))\n",
    "fila2 = list(range(1, ultimo2 + 1))\n",
    "parar = False\n",
    "while True:\n",
    "    print(\"\\nExistem {} cliente na Fila 1\".format(len(fila)))\n",
    "    print(\"Existem {} cliente na Fila 2\".format(len(fila2)))\n",
    "    print(\"Fila 1: \", fila)\n",
    "    print(\"Fila 2: \", fila2)\n",
    "    print(\"Digite F para adicionar um cliente ao fim da fila 1, ou G \"\n",
    "          \"para fila 2\")\n",
    "    print(\"Digite A para realizar o atendimento na fila 1 ou B para fila 2. S para sair.\")\n",
    "\n",
    "    if parar:\n",
    "        break\n",
    "\n",
    "    operacao = input(\"Operação (F, A, B, G ou S): \")\n",
    "    i = 0\n",
    "\n",
    "    while len(operacao) > i:\n",
    "        # operações da primeira lista\n",
    "        if operacao[i] == \"A\":\n",
    "            if len(fila) > 0:\n",
    "                atendido = fila.pop(0)\n",
    "                print(\"Cliente {} atendido\".format(atendido))\n",
    "            else:\n",
    "                print(\"Fila vazia. Ninguém para atender\")\n",
    "        elif operacao[i] == \"F\":\n",
    "            ultimo += 1\n",
    "            fila.append(ultimo)\n",
    "\n",
    "        # operacões da segunda lista\n",
    "        elif operacao[i] == \"B\":\n",
    "            if len(fila) > 0:\n",
    "                atendido = fila2.pop(0)\n",
    "                print(\"Cliente {} atendido\".format(atendido))\n",
    "            else:\n",
    "                print(\"Fila vazia. Ninguém para atender\")\n",
    "        elif operacao[i] == \"G\":\n",
    "            ultimo += 1\n",
    "            fila2.append(ultimo)\n",
    "        elif operacao[i] == \"S\":\n",
    "            parar = True\n",
    "            break\n",
    "        else:\n",
    "            print(\"Operação inválida\")\n",
    "        i += 1"
   ]
  },
  {
   "cell_type": "markdown",
   "metadata": {},
   "source": [
    "### Exercício 6.7\n",
    "\n",
    "Faça um programa que leia uma expressão com parênteses. Usando pilhas, verifique se os parênteses foram abertos e fechados na ordem correta.\n",
    "\n",
    "Exemplo:\n",
    "\n",
    "    (()) OK\n",
    "    (()()()(())()) OK\n",
    "    ()) Erro"
   ]
  },
  {
   "cell_type": "code",
   "execution_count": 1,
   "metadata": {},
   "outputs": [
    {
     "name": "stdout",
     "output_type": "stream",
     "text": [
      "Digite a sequência de parênteses: (((()())))\n",
      "OK\n"
     ]
    }
   ],
   "source": [
    "expressao = str(input(\"Digite a sequência de parênteses: \"))\n",
    "i = 0\n",
    "j = i\n",
    "pilha = []\n",
    "\n",
    "error = True\n",
    "\n",
    "while len(expressao) > i:\n",
    "    if expressao[i] == \"(\":\n",
    "        pilha.append(expressao[i])\n",
    "    if expressao[j] == \")\":\n",
    "        if len(pilha) == 0:\n",
    "            print(\"Error\")\n",
    "            error = False\n",
    "            break\n",
    "        pilha.pop(0)\n",
    "    i += 1\n",
    "    j -= 1\n",
    "\n",
    "if error:\n",
    "    print(\"OK\")"
   ]
  },
  {
   "cell_type": "markdown",
   "metadata": {},
   "source": [
    "### Exercício 6.8\n",
    "\n",
    "Modifique o primeiro exemplo (livro) de forma a realizar a mesma terefa, mas sem utilizar a variável **achou**. Dica: Observe a condição de saída do while."
   ]
  },
  {
   "cell_type": "code",
   "execution_count": 3,
   "metadata": {},
   "outputs": [
    {
     "name": "stdout",
     "output_type": "stream",
     "text": [
      "Digite o número a ser pesquisado: 38\n",
      "Número encontrado na posição 3\n"
     ]
    }
   ],
   "source": [
    "l = [15, 7, 27, 38]\n",
    "n = int(input(\"Digite o número a ser pesquisado: \"))\n",
    "i = 0\n",
    "\n",
    "while i < len(l):\n",
    "    if l[i] == n:\n",
    "        print(\"Número encontrado na posição {}\".format(i))\n",
    "        break\n",
    "    i += 1\n",
    "else:\n",
    "    print(\"Número não encontrado\")"
   ]
  },
  {
   "cell_type": "markdown",
   "metadata": {},
   "source": [
    "### Exercício 6.9 \n",
    "\n",
    "Modifique o exemplo (livro) para pesquisar dois valores. Em vez de apenas p, leia outro valor v, que também será procurado. Na impressão, indique qual dos dois valores foi achado primeiro."
   ]
  },
  {
   "cell_type": "code",
   "execution_count": 1,
   "metadata": {},
   "outputs": [
    {
     "name": "stdout",
     "output_type": "stream",
     "text": [
      "Buscar por V: 458\n",
      "Buscar por P: 8\n",
      "O primeiro valor a ser achado foi:  458\n",
      "P achado\n",
      "V achado\n"
     ]
    }
   ],
   "source": [
    "lista = [15, 458, 4, 8, 6, 1]\n",
    "v = int(input(\"Buscar por V: \"))\n",
    "p = int(input(\"Buscar por P: \"))\n",
    "i = 0\n",
    "achouP = False\n",
    "achouV = False\n",
    "posiçãoP = 0\n",
    "posiçãoV = 0\n",
    "\n",
    "while i < len(lista):\n",
    "    if lista[i] == p:\n",
    "        achouP = True\n",
    "        posiçãoP = i\n",
    "    if lista[i] == v:\n",
    "        achouV = True\n",
    "        posiçãoV = i\n",
    "    i += 1\n",
    "\n",
    "if achouP and achouV:\n",
    "    if posiçãoP < posiçãoV:\n",
    "        print(\"O primeiro valor a ser achado foi: \", p)\n",
    "    else:\n",
    "        print(\"O primeiro valor a ser achado foi: \", v)\n",
    "\n",
    "if achouP:\n",
    "    print(\"P achado\")\n",
    "else:\n",
    "    print(\"P não encontrado\")\n",
    "\n",
    "if achouV:\n",
    "    print(\"V achado\")\n",
    "else:\n",
    "    print(\"V não encontrado\")"
   ]
  },
  {
   "cell_type": "markdown",
   "metadata": {},
   "source": [
    "### Exercício 6.10\n",
    "\n",
    "Modifique o programa do exercício 6.9 de forma a pesquisar P e V em toda a lista e informando o usuário a posição onde P e V foram encontrados."
   ]
  },
  {
   "cell_type": "code",
   "execution_count": 1,
   "metadata": {},
   "outputs": [
    {
     "name": "stdout",
     "output_type": "stream",
     "text": [
      "Buscar por V: 4\n",
      "Buscar por P: 1\n",
      "O primeiro valor a ser achado foi:  4\n",
      "P achado na posição  5\n",
      "V achado na posição  2\n"
     ]
    }
   ],
   "source": [
    "lista = [15, 458, 4, 8, 6, 1]\n",
    "v = int(input(\"Buscar por V: \"))\n",
    "p = int(input(\"Buscar por P: \"))\n",
    "i = 0\n",
    "achouP = False\n",
    "achouV = False\n",
    "posiçãoP = 0\n",
    "posiçãoV = 0\n",
    "\n",
    "while i < len(lista):\n",
    "    if lista[i] == p:\n",
    "        achouP = True\n",
    "        posiçãoP = i\n",
    "    if lista[i] == v:\n",
    "        achouV = True\n",
    "        posiçãoV = i\n",
    "    i += 1\n",
    "\n",
    "if achouP and achouV:\n",
    "    if posiçãoP < posiçãoV:\n",
    "        print(\"O primeiro valor a ser achado foi: \", p)\n",
    "    else:\n",
    "        print(\"O primeiro valor a ser achado foi: \", v)\n",
    "\n",
    "if achouP:\n",
    "    print(\"P achado na posição \", posiçãoP)\n",
    "else:\n",
    "    print(\"P não encontrado\")\n",
    "\n",
    "if achouV:\n",
    "    print(\"V achado na posição \", posiçãoV)\n",
    "else:\n",
    "    print(\"V não encontrado\")"
   ]
  },
  {
   "cell_type": "markdown",
   "metadata": {},
   "source": [
    "### Exercício 6.11\n",
    "\n",
    "Modifique o programa da listagem 6.15 usando FOR. Explique porque nem todos os whiles podem ser transformados em FOR.\n",
    "\n",
    "- **Listagem 6.15**\n",
    "\n",
    "\n",
    "```python\n",
    "    lista = []\n",
    "\n",
    "    while True:\n",
    "        n = int(input(\"n: \"))\n",
    "        if n == 0:\n",
    "            break\n",
    "        lista.append(n)\n",
    "    x = 0\n",
    "\n",
    "    while x < len(lista):\n",
    "        print(lista[x])\n",
    "        x = x = 1\n",
    "```"
   ]
  },
  {
   "cell_type": "code",
   "execution_count": 2,
   "metadata": {},
   "outputs": [
    {
     "name": "stdout",
     "output_type": "stream",
     "text": [
      "n: 9\n",
      "n: 6\n",
      "n: 10\n",
      "n: 0\n",
      "9\n",
      "6\n",
      "10\n"
     ]
    }
   ],
   "source": [
    "lista = []\n",
    "\n",
    "while True:\n",
    "    n = int(input(\"n: \"))\n",
    "    if n == 0:\n",
    "        break\n",
    "    lista.append(n)\n",
    "\n",
    "for i in lista:\n",
    "    print(i)\n",
    "\n",
    "# Como era impossível saber a quantidade de dados para serem inseridos\n",
    "# apenas o while poderia suprir essa necessidade."
   ]
  },
  {
   "cell_type": "markdown",
   "metadata": {},
   "source": [
    "### Exercício 6.12\n",
    "\n",
    "Altere o programa da listagem 6.33 de forma a imprimir o menor elemento da lista.\n",
    "\n",
    "- **Listagem 6.33**\n",
    "\n",
    "``` python\n",
    "    L = [1, 7, 2, 4]\n",
    "    maximo = L[0]\n",
    "\n",
    "    for e in L:\n",
    "        if e > maximo:\n",
    "            maximo = e\n",
    "    print(maximo)\n",
    "\n",
    "```"
   ]
  },
  {
   "cell_type": "code",
   "execution_count": 4,
   "metadata": {},
   "outputs": [
    {
     "name": "stdout",
     "output_type": "stream",
     "text": [
      "1\n"
     ]
    }
   ],
   "source": [
    "L = [1, 7, 2, 4]\n",
    "menor = L[0]\n",
    "\n",
    "for e in L:\n",
    "    if e < menor:\n",
    "        menor = e\n",
    "print(menor)"
   ]
  },
  {
   "cell_type": "markdown",
   "metadata": {},
   "source": [
    "### Exercício 6.13\n",
    "\n",
    "A lista de temperatura de Mons, na Bélgica, foi armazenada na lista T = [-10, -8, 0, 1, 2, 5, -2, -4]. Faça um programa que imprima a menor e a maior temperatura, assim como a temperatura média."
   ]
  },
  {
   "cell_type": "code",
   "execution_count": 7,
   "metadata": {},
   "outputs": [
    {
     "name": "stdout",
     "output_type": "stream",
     "text": [
      "Menor temperatura: -10\n",
      "Maior temperatura: 5\n",
      "Temperatura média: -2\n"
     ]
    }
   ],
   "source": [
    "T = [-10, -8, 0, 1, 2, 5, -2, -4]\n",
    "maior = T[0]\n",
    "menor = T[0]\n",
    "media = 0\n",
    "\n",
    "for e in T:\n",
    "    if e > maior:\n",
    "        maior = e\n",
    "    if e < menor:\n",
    "        menor = e\n",
    "    media += e\n",
    "\n",
    "print(\"Menor temperatura: {}\\nMaior temperatura: {}\\nTemperatura mé\"\n",
    "      \"dia: {}\".format(menor, maior, int((media / len(T)))))\n"
   ]
  },
  {
   "cell_type": "markdown",
   "metadata": {},
   "source": [
    "### Exercício 6.14\n",
    "\n",
    "O que acontece quando a lista já está ordenada? Rastreie o programa da listagem 6.44, mas com a lista L = [1, 2, 3, 4, 5].\n",
    "\n",
    "- **Listagem 6.44**\n",
    "\n",
    "``` python\n",
    "   L = [7, 4, 3, 12, 8]\n",
    "    fim = 5\n",
    "\n",
    "    while fim > 1:\n",
    "        trocou = False\n",
    "        x = 0\n",
    "        while x < (fim - 1):\n",
    "            if L[x] > L[x + 1]:\n",
    "                trocou = True\n",
    "                temp = L[x]\n",
    "                L[x] = L[x + 1]\n",
    "                L[x + 1] = temp\n",
    "            x += 1\n",
    "        if not trocou:\n",
    "            break\n",
    "        fim -= 1\n",
    "    for e in L:\n",
    "        print(e)\n",
    "\n",
    "```"
   ]
  },
  {
   "cell_type": "code",
   "execution_count": 2,
   "metadata": {},
   "outputs": [
    {
     "name": "stdout",
     "output_type": "stream",
     "text": [
      "1\n",
      "2\n",
      "3\n",
      "4\n",
      "5\n"
     ]
    }
   ],
   "source": [
    "L = [1, 2, 3, 4, 5]\n",
    "fim = 5\n",
    "\n",
    "while fim > 1:\n",
    "    trocou = False\n",
    "    x = 0\n",
    "    while x < (fim - 1):\n",
    "        if L[x] > L[x + 1]:\n",
    "            trocou = True\n",
    "            temp = L[x]\n",
    "            L[x] = L[x + 1]\n",
    "            L[x + 1] = temp\n",
    "        x += 1\n",
    "    if not trocou:\n",
    "        break\n",
    "    fim -= 1\n",
    "for e in L:\n",
    "    print(e)\n",
    "\n",
    "# Como nenhum if é satisfeito o código não precisa reordenar."
   ]
  },
  {
   "cell_type": "markdown",
   "metadata": {},
   "source": [
    "### Exercício 6.15\n",
    "\n",
    "O que acontece se dois valores forem iguais? Teste com L = [3, 3, 1, 5, 4]"
   ]
  },
  {
   "cell_type": "code",
   "execution_count": 7,
   "metadata": {},
   "outputs": [
    {
     "name": "stdout",
     "output_type": "stream",
     "text": [
      "1\n",
      "3\n",
      "3\n",
      "4\n",
      "5\n"
     ]
    }
   ],
   "source": [
    "L = [3, 3, 1, 5, 4]\n",
    "fim = 5\n",
    "\n",
    "while fim > 1:\n",
    "    trocou = False\n",
    "    x = 0\n",
    "    while x < (fim - 1):\n",
    "        if L[x] > L[x + 1]:\n",
    "            trocou = True\n",
    "            temp = L[x]\n",
    "            L[x] = L[x + 1]\n",
    "            L[x + 1] = temp\n",
    "        x += 1\n",
    "    if not trocou:\n",
    "        break\n",
    "    fim -= 1\n",
    "for e in L:\n",
    "    print(e)\n",
    "\n",
    "    \n",
    "# Os números são ordenados da mesma forma, visto que N não é maior que N\n",
    "# portando são mantidos em sequência."
   ]
  },
  {
   "cell_type": "markdown",
   "metadata": {},
   "source": [
    "### Exercício 6.16\n",
    "\n",
    "Modifique o programa da listagem 6.44 para ordernar na ordem decrescente."
   ]
  },
  {
   "cell_type": "code",
   "execution_count": 8,
   "metadata": {},
   "outputs": [
    {
     "name": "stdout",
     "output_type": "stream",
     "text": [
      "12\n",
      "8\n",
      "7\n",
      "4\n",
      "3\n"
     ]
    }
   ],
   "source": [
    "L = [7, 4, 3, 12, 8]\n",
    "fim = 5\n",
    "\n",
    "while fim > 1:\n",
    "    trocou = False\n",
    "    x = 0\n",
    "    while x < (fim - 1):\n",
    "        if L[x] < L[x + 1]:\n",
    "            trocou = True\n",
    "            temp = L[x]\n",
    "            L[x] = L[x + 1]\n",
    "            L[x + 1] = temp\n",
    "        x += 1\n",
    "    if not trocou:\n",
    "        break\n",
    "    fim -= 1\n",
    "for e in L:\n",
    "    print(e)"
   ]
  },
  {
   "cell_type": "markdown",
   "metadata": {},
   "source": [
    "### Exercício 6.17\n",
    "\n",
    "Altere o programa da lista 6.53 de forma a solicitar ao usuário o produto e a quantidade vendida. Verifique se o nome do produto digitado existe no dicionário, e só então efetue a baixa em estoque. \n",
    "\n",
    "- **Listagem 6.53**\n",
    "\n",
    "``` python\n",
    "\n",
    "estoque = {\n",
    "    \"tomate\": [1000, 2.30],\n",
    "    \"alface\": [500, 0.45],\n",
    "    \"batata\": [2001, 1.20],\n",
    "    \"feijao\": [100, 1.50],\n",
    "}\n",
    "\n",
    "venda = [[\"tomate\", 5], [\"batata\", 10], [\"alface\", 5]]\n",
    "\n",
    "total = 0\n",
    "\n",
    "print(\"Vendas:\\n\")\n",
    "\n",
    "for operacao in venda:\n",
    "    produto, quantidade = operacao\n",
    "    preco = estoque[produto][1]\n",
    "    custo = preco * quantidade\n",
    "    print(\"{:.12s}: {:4} x {:.2f} = {:6.2f}\".format(\n",
    "        produto, quantidade, preco, custo))\n",
    "    estoque[produto][0] - + quantidade\n",
    "    total += custo\n",
    "\n",
    "print(\"Custo total: {:6.2f}\".format(total))\n",
    "print(\"Estoque\\n\")\n",
    "\n",
    "for chave, dados, in estoque.items():\n",
    "    print(\"Descrição: \", chave)\n",
    "    print(\"Quantidade: \", dados[0])\n",
    "    print(\"Preço: {:6.2f}\\n\".format(dados[1]))\n",
    "\n",
    "```"
   ]
  },
  {
   "cell_type": "code",
   "execution_count": 1,
   "metadata": {},
   "outputs": [
    {
     "name": "stdout",
     "output_type": "stream",
     "text": [
      "Digite o nome do produto comprado (0 sai): alface\n",
      "Qual a quantidade comprada: 15\n",
      "Digite o nome do produto comprado (0 sai): 0\n",
      "Vendas:\n",
      "\n",
      "alface:   15 x 0.45 =   6.75\n",
      "Custo total:   6.75\n",
      "\n",
      "Estoque\n",
      "\n",
      "Descrição:  tomate\n",
      "Quantidade:  1000\n",
      "Preço:   2.30\n",
      "\n",
      "Descrição:  alface\n",
      "Quantidade:  500\n",
      "Preço:   0.45\n",
      "\n",
      "Descrição:  batata\n",
      "Quantidade:  2001\n",
      "Preço:   1.20\n",
      "\n",
      "Descrição:  feijao\n",
      "Quantidade:  100\n",
      "Preço:   1.50\n",
      "\n"
     ]
    }
   ],
   "source": [
    "estoque = {\n",
    "    \"tomate\": [1000, 2.30],\n",
    "    \"alface\": [500, 0.45],\n",
    "    \"batata\": [2001, 1.20],\n",
    "    \"feijao\": [100, 1.50],\n",
    "}\n",
    "compra = \"\"\n",
    "compras = []\n",
    "while True:\n",
    "    compra = str(input(\"Digite o nome do produto comprado (0 sai): \"))\n",
    "    if compra in estoque:\n",
    "        compra_quantidade = int(input(\"Qual a quantidade comprada: \"))\n",
    "        if compra_quantidade > 0:\n",
    "            compras.append(compra)\n",
    "            compras.append(compra_quantidade)\n",
    "    elif compra == \"0\":\n",
    "        break\n",
    "    else:\n",
    "        print(\"O produto não existe\")\n",
    "venda = []\n",
    "venda.append(compras)\n",
    "\n",
    "total = 0\n",
    "\n",
    "print(\"Vendas:\\n\")\n",
    "\n",
    "for operacao in venda:\n",
    "    produto, quantidade = operacao\n",
    "    preco = estoque[produto][1]\n",
    "    custo = preco * quantidade\n",
    "    print(\"{:.12s}: {:4} x {:.2f} = {:6.2f}\".format(\n",
    "        produto, quantidade, preco, custo))\n",
    "    estoque[produto][0] - + quantidade\n",
    "    total += custo\n",
    "\n",
    "print(\"Custo total: {:6.2f}\\n\".format(total))\n",
    "print(\"Estoque\\n\")\n",
    "\n",
    "for chave, dados, in estoque.items():\n",
    "    print(\"Descrição: \", chave)\n",
    "    print(\"Quantidade: \", dados[0])\n",
    "    print(\"Preço: {:6.2f}\\n\".format(dados[1]))"
   ]
  },
  {
   "cell_type": "markdown",
   "metadata": {},
   "source": [
    "### Exercício 6.18\n",
    "\n",
    "Excreva um programa que gere um dicionário, onde cada chave seja um caractere, e seu valor seja o número desse caracre encontrado em uma frase lida.\n",
    "\n",
    "Exemplo: O rato -> {\"O\": 1, \"r\": 1, \"a\": 1, \"t\": 1, \"o\": 1}"
   ]
  },
  {
   "cell_type": "code",
   "execution_count": 1,
   "metadata": {},
   "outputs": [
    {
     "name": "stdout",
     "output_type": "stream",
     "text": [
      "Digite uma frase para contar as letras:O Rato\n",
      "{'O': 1, ' ': 1, 'R': 1, 'a': 1, 't': 1, 'o': 1}\n"
     ]
    }
   ],
   "source": [
    "frase = input(\"Digite uma frase para contar as letras:\")\n",
    "d = {}\n",
    "for letra in frase:\n",
    "    if letra in d:\n",
    "        d[letra] = d[letra] + 1\n",
    "    else:\n",
    "        d[letra] = 1\n",
    "print(d)\n"
   ]
  },
  {
   "cell_type": "code",
   "execution_count": null,
   "metadata": {},
   "outputs": [],
   "source": []
  }
 ],
 "metadata": {
  "kernelspec": {
   "display_name": "Python 3",
   "language": "python",
   "name": "python3"
  },
  "language_info": {
   "codemirror_mode": {
    "name": "ipython",
    "version": 3
   },
   "file_extension": ".py",
   "mimetype": "text/x-python",
   "name": "python",
   "nbconvert_exporter": "python",
   "pygments_lexer": "ipython3",
   "version": "3.7.0"
  }
 },
 "nbformat": 4,
 "nbformat_minor": 2
}
